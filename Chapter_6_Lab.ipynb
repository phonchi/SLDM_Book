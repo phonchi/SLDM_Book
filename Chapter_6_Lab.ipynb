{
  "cells": [
    {
      "attachments": {},
      "cell_type": "markdown",
      "metadata": {},
      "source": [
        "---\n",
        "title: \"Linear Models and Regularization Methods\"\n",
        "author: \"phonchi\"\n",
        "date: \"10/17/2022\"\n",
        "format: \n",
        "  html:\n",
        "    toc: true\n",
        "    code-line-numbers: true\n",
        "    code-tools: true\n",
        "---"
      ]
    },
    {
      "attachments": {},
      "cell_type": "markdown",
      "metadata": {
        "id": "O_Soz1QayOZc"
      },
      "source": [
        "<table align=\"left\">\n",
        "  <td>\n",
        "    <a href=\"https://colab.research.google.com/github/phonchi/nsysu-math524/blob/master/static_files/presentations/Chapter_6_Lab.ipynb\" target=\"_parent\"><img src=\"https://colab.research.google.com/assets/colab-badge.svg\" alt=\"Open In Colab\"/></a>\n",
        "  </td>\n",
        "  <td>\n",
        "    <a target=\"_blank\" href=\"https://kaggle.com/kernels/welcome?src=https://github.com/phonchi/nsysu-math524/blob/master/static_files/presentations/Chapter_6_Lab.ipynb\"><img src=\"https://kaggle.com/static/images/open-in-kaggle.svg\" /></a>\n",
        "  </td>\n",
        "</table>\n",
        "<br/>"
      ]
    },
    {
      "attachments": {},
      "cell_type": "markdown",
      "metadata": {
        "id": "gdpaY94vrhlz"
      },
      "source": [
        "## Subset Selection Methods\n",
        "\n",
        "Some of the commands in this lab may take a while to run on your computer.\n",
        "\n",
        "### Best Subset Selection"
      ]
    },
    {
      "cell_type": "markdown",
      "metadata": {
        "id": "o5cYFNDErhl0"
      },
      "source": [
        "Here we apply the best subset selection approach to the `Hitters` data.\n",
        "We wish to predict a baseball player's `Salary` on the basis of various statistics associated with performance in the previous year."
      ]
    },
    {
      "cell_type": "code",
      "execution_count": 80,
      "metadata": {
        "id": "jm9M2lBGy0Ft"
      },
      "outputs": [],
      "source": [
        "!pip install mlxtend --upgrade --no-deps -qq"
      ]
    },
    {
      "cell_type": "code",
      "execution_count": 81,
      "metadata": {
        "id": "bS96Q3D9rhl0"
      },
      "outputs": [],
      "source": [
        "import pandas as pd\n",
        "import numpy as np\n",
        "import matplotlib.pyplot as plt\n",
        "import seaborn as sns\n",
        "import os\n",
        "import itertools\n",
        "\n",
        "import statsmodels.formula.api as smf\n",
        "from mlxtend.feature_selection import ExhaustiveFeatureSelector as EFS\n",
        "from mlxtend.feature_selection import SequentialFeatureSelector as SFS\n",
        "#import glmnet as gln\n",
        "\n",
        "#from sklearn.feature_selection import SequentialFeatureSelector \n",
        "from sklearn.model_selection import train_test_split,KFold, cross_val_score\n",
        "from sklearn.preprocessing import scale, StandardScaler \n",
        "from sklearn.linear_model import LinearRegression, Ridge, RidgeCV, Lasso, LassoCV\n",
        "from sklearn.decomposition import PCA\n",
        "from sklearn.metrics import mean_squared_error\n",
        "from sklearn.cross_decomposition import PLSRegression, PLSSVD\n",
        "\n",
        "%matplotlib inline\n",
        "plt.style.use('seaborn-white')\n",
        "sns.set_context(\"notebook\", font_scale=1.5, rc={\"lines.linewidth\": 2.5})"
      ]
    },
    {
      "cell_type": "markdown",
      "metadata": {
        "id": "pkK4hPbhrhl1"
      },
      "source": [
        "First of all, we note that the `Salary` variable is missing for some of the players. The `isnull()` function can be used to identify the missing observations. It returns a vector of the same length as the input vector, with a `True` value for any elements that are missing, and a `False` value for non-missing elements. The `sum()` function can then be used to count all of the missing elements."
      ]
    },
    {
      "cell_type": "code",
      "execution_count": 82,
      "metadata": {
        "colab": {
          "base_uri": "https://localhost:8080/"
        },
        "id": "EeAu5dlIulkC",
        "outputId": "2ff89f9c-827c-483c-acc1-f1a557000b6a"
      },
      "outputs": [
        {
          "name": "stdout",
          "output_type": "stream",
          "text": [
            "Drive already mounted at /content/drive; to attempt to forcibly remount, call drive.mount(\"/content/drive\", force_remount=True).\n"
          ]
        }
      ],
      "source": [
        "from google.colab import drive\n",
        "drive.mount('/content/drive')"
      ]
    },
    {
      "cell_type": "code",
      "execution_count": 83,
      "metadata": {
        "colab": {
          "base_uri": "https://localhost:8080/",
          "height": 270
        },
        "id": "LtNPr_Lorhl2",
        "outputId": "b255e8e2-eacc-4cf2-8c8b-dd9d207f86a0"
      },
      "outputs": [
        {
          "data": {
            "text/html": [
              "\n",
              "  <div id=\"df-6cbfa9c6-b427-428b-8efa-8eb4381359f2\">\n",
              "    <div class=\"colab-df-container\">\n",
              "      <div>\n",
              "<style scoped>\n",
              "    .dataframe tbody tr th:only-of-type {\n",
              "        vertical-align: middle;\n",
              "    }\n",
              "\n",
              "    .dataframe tbody tr th {\n",
              "        vertical-align: top;\n",
              "    }\n",
              "\n",
              "    .dataframe thead th {\n",
              "        text-align: right;\n",
              "    }\n",
              "</style>\n",
              "<table border=\"1\" class=\"dataframe\">\n",
              "  <thead>\n",
              "    <tr style=\"text-align: right;\">\n",
              "      <th></th>\n",
              "      <th>AtBat</th>\n",
              "      <th>Hits</th>\n",
              "      <th>HmRun</th>\n",
              "      <th>Runs</th>\n",
              "      <th>RBI</th>\n",
              "      <th>Walks</th>\n",
              "      <th>Years</th>\n",
              "      <th>CAtBat</th>\n",
              "      <th>CHits</th>\n",
              "      <th>CHmRun</th>\n",
              "      <th>CRuns</th>\n",
              "      <th>CRBI</th>\n",
              "      <th>CWalks</th>\n",
              "      <th>League</th>\n",
              "      <th>Division</th>\n",
              "      <th>PutOuts</th>\n",
              "      <th>Assists</th>\n",
              "      <th>Errors</th>\n",
              "      <th>Salary</th>\n",
              "      <th>NewLeague</th>\n",
              "    </tr>\n",
              "  </thead>\n",
              "  <tbody>\n",
              "    <tr>\n",
              "      <th>0</th>\n",
              "      <td>293</td>\n",
              "      <td>66</td>\n",
              "      <td>1</td>\n",
              "      <td>30</td>\n",
              "      <td>29</td>\n",
              "      <td>14</td>\n",
              "      <td>1</td>\n",
              "      <td>293</td>\n",
              "      <td>66</td>\n",
              "      <td>1</td>\n",
              "      <td>30</td>\n",
              "      <td>29</td>\n",
              "      <td>14</td>\n",
              "      <td>A</td>\n",
              "      <td>E</td>\n",
              "      <td>446</td>\n",
              "      <td>33</td>\n",
              "      <td>20</td>\n",
              "      <td>NaN</td>\n",
              "      <td>A</td>\n",
              "    </tr>\n",
              "    <tr>\n",
              "      <th>1</th>\n",
              "      <td>315</td>\n",
              "      <td>81</td>\n",
              "      <td>7</td>\n",
              "      <td>24</td>\n",
              "      <td>38</td>\n",
              "      <td>39</td>\n",
              "      <td>14</td>\n",
              "      <td>3449</td>\n",
              "      <td>835</td>\n",
              "      <td>69</td>\n",
              "      <td>321</td>\n",
              "      <td>414</td>\n",
              "      <td>375</td>\n",
              "      <td>N</td>\n",
              "      <td>W</td>\n",
              "      <td>632</td>\n",
              "      <td>43</td>\n",
              "      <td>10</td>\n",
              "      <td>475.0</td>\n",
              "      <td>N</td>\n",
              "    </tr>\n",
              "    <tr>\n",
              "      <th>2</th>\n",
              "      <td>479</td>\n",
              "      <td>130</td>\n",
              "      <td>18</td>\n",
              "      <td>66</td>\n",
              "      <td>72</td>\n",
              "      <td>76</td>\n",
              "      <td>3</td>\n",
              "      <td>1624</td>\n",
              "      <td>457</td>\n",
              "      <td>63</td>\n",
              "      <td>224</td>\n",
              "      <td>266</td>\n",
              "      <td>263</td>\n",
              "      <td>A</td>\n",
              "      <td>W</td>\n",
              "      <td>880</td>\n",
              "      <td>82</td>\n",
              "      <td>14</td>\n",
              "      <td>480.0</td>\n",
              "      <td>A</td>\n",
              "    </tr>\n",
              "    <tr>\n",
              "      <th>3</th>\n",
              "      <td>496</td>\n",
              "      <td>141</td>\n",
              "      <td>20</td>\n",
              "      <td>65</td>\n",
              "      <td>78</td>\n",
              "      <td>37</td>\n",
              "      <td>11</td>\n",
              "      <td>5628</td>\n",
              "      <td>1575</td>\n",
              "      <td>225</td>\n",
              "      <td>828</td>\n",
              "      <td>838</td>\n",
              "      <td>354</td>\n",
              "      <td>N</td>\n",
              "      <td>E</td>\n",
              "      <td>200</td>\n",
              "      <td>11</td>\n",
              "      <td>3</td>\n",
              "      <td>500.0</td>\n",
              "      <td>N</td>\n",
              "    </tr>\n",
              "    <tr>\n",
              "      <th>4</th>\n",
              "      <td>321</td>\n",
              "      <td>87</td>\n",
              "      <td>10</td>\n",
              "      <td>39</td>\n",
              "      <td>42</td>\n",
              "      <td>30</td>\n",
              "      <td>2</td>\n",
              "      <td>396</td>\n",
              "      <td>101</td>\n",
              "      <td>12</td>\n",
              "      <td>48</td>\n",
              "      <td>46</td>\n",
              "      <td>33</td>\n",
              "      <td>N</td>\n",
              "      <td>E</td>\n",
              "      <td>805</td>\n",
              "      <td>40</td>\n",
              "      <td>4</td>\n",
              "      <td>91.5</td>\n",
              "      <td>N</td>\n",
              "    </tr>\n",
              "  </tbody>\n",
              "</table>\n",
              "</div>\n",
              "      <button class=\"colab-df-convert\" onclick=\"convertToInteractive('df-6cbfa9c6-b427-428b-8efa-8eb4381359f2')\"\n",
              "              title=\"Convert this dataframe to an interactive table.\"\n",
              "              style=\"display:none;\">\n",
              "        \n",
              "  <svg xmlns=\"http://www.w3.org/2000/svg\" height=\"24px\"viewBox=\"0 0 24 24\"\n",
              "       width=\"24px\">\n",
              "    <path d=\"M0 0h24v24H0V0z\" fill=\"none\"/>\n",
              "    <path d=\"M18.56 5.44l.94 2.06.94-2.06 2.06-.94-2.06-.94-.94-2.06-.94 2.06-2.06.94zm-11 1L8.5 8.5l.94-2.06 2.06-.94-2.06-.94L8.5 2.5l-.94 2.06-2.06.94zm10 10l.94 2.06.94-2.06 2.06-.94-2.06-.94-.94-2.06-.94 2.06-2.06.94z\"/><path d=\"M17.41 7.96l-1.37-1.37c-.4-.4-.92-.59-1.43-.59-.52 0-1.04.2-1.43.59L10.3 9.45l-7.72 7.72c-.78.78-.78 2.05 0 2.83L4 21.41c.39.39.9.59 1.41.59.51 0 1.02-.2 1.41-.59l7.78-7.78 2.81-2.81c.8-.78.8-2.07 0-2.86zM5.41 20L4 18.59l7.72-7.72 1.47 1.35L5.41 20z\"/>\n",
              "  </svg>\n",
              "      </button>\n",
              "      \n",
              "  <style>\n",
              "    .colab-df-container {\n",
              "      display:flex;\n",
              "      flex-wrap:wrap;\n",
              "      gap: 12px;\n",
              "    }\n",
              "\n",
              "    .colab-df-convert {\n",
              "      background-color: #E8F0FE;\n",
              "      border: none;\n",
              "      border-radius: 50%;\n",
              "      cursor: pointer;\n",
              "      display: none;\n",
              "      fill: #1967D2;\n",
              "      height: 32px;\n",
              "      padding: 0 0 0 0;\n",
              "      width: 32px;\n",
              "    }\n",
              "\n",
              "    .colab-df-convert:hover {\n",
              "      background-color: #E2EBFA;\n",
              "      box-shadow: 0px 1px 2px rgba(60, 64, 67, 0.3), 0px 1px 3px 1px rgba(60, 64, 67, 0.15);\n",
              "      fill: #174EA6;\n",
              "    }\n",
              "\n",
              "    [theme=dark] .colab-df-convert {\n",
              "      background-color: #3B4455;\n",
              "      fill: #D2E3FC;\n",
              "    }\n",
              "\n",
              "    [theme=dark] .colab-df-convert:hover {\n",
              "      background-color: #434B5C;\n",
              "      box-shadow: 0px 1px 3px 1px rgba(0, 0, 0, 0.15);\n",
              "      filter: drop-shadow(0px 1px 2px rgba(0, 0, 0, 0.3));\n",
              "      fill: #FFFFFF;\n",
              "    }\n",
              "  </style>\n",
              "\n",
              "      <script>\n",
              "        const buttonEl =\n",
              "          document.querySelector('#df-6cbfa9c6-b427-428b-8efa-8eb4381359f2 button.colab-df-convert');\n",
              "        buttonEl.style.display =\n",
              "          google.colab.kernel.accessAllowed ? 'block' : 'none';\n",
              "\n",
              "        async function convertToInteractive(key) {\n",
              "          const element = document.querySelector('#df-6cbfa9c6-b427-428b-8efa-8eb4381359f2');\n",
              "          const dataTable =\n",
              "            await google.colab.kernel.invokeFunction('convertToInteractive',\n",
              "                                                     [key], {});\n",
              "          if (!dataTable) return;\n",
              "\n",
              "          const docLinkHtml = 'Like what you see? Visit the ' +\n",
              "            '<a target=\"_blank\" href=https://colab.research.google.com/notebooks/data_table.ipynb>data table notebook</a>'\n",
              "            + ' to learn more about interactive tables.';\n",
              "          element.innerHTML = '';\n",
              "          dataTable['output_type'] = 'display_data';\n",
              "          await google.colab.output.renderOutput(dataTable, element);\n",
              "          const docLink = document.createElement('div');\n",
              "          docLink.innerHTML = docLinkHtml;\n",
              "          element.appendChild(docLink);\n",
              "        }\n",
              "      </script>\n",
              "    </div>\n",
              "  </div>\n",
              "  "
            ],
            "text/plain": [
              "   AtBat  Hits  HmRun  Runs  RBI  Walks  Years  CAtBat  CHits  CHmRun  CRuns  \\\n",
              "0    293    66      1    30   29     14      1     293     66       1     30   \n",
              "1    315    81      7    24   38     39     14    3449    835      69    321   \n",
              "2    479   130     18    66   72     76      3    1624    457      63    224   \n",
              "3    496   141     20    65   78     37     11    5628   1575     225    828   \n",
              "4    321    87     10    39   42     30      2     396    101      12     48   \n",
              "\n",
              "   CRBI  CWalks League Division  PutOuts  Assists  Errors  Salary NewLeague  \n",
              "0    29      14      A        E      446       33      20     NaN         A  \n",
              "1   414     375      N        W      632       43      10   475.0         N  \n",
              "2   266     263      A        W      880       82      14   480.0         A  \n",
              "3   838     354      N        E      200       11       3   500.0         N  \n",
              "4    46      33      N        E      805       40       4    91.5         N  "
            ]
          },
          "execution_count": 83,
          "metadata": {},
          "output_type": "execute_result"
        }
      ],
      "source": [
        "Hitter = pd.read_csv(\"/content/drive/MyDrive/Lab/Data/Hitters.csv\")\n",
        "Hitter.head()"
      ]
    },
    {
      "cell_type": "code",
      "execution_count": 84,
      "metadata": {
        "colab": {
          "base_uri": "https://localhost:8080/"
        },
        "id": "aT262bZorhl2",
        "outputId": "9c4f9701-3313-45fe-cdf9-de703d568030"
      },
      "outputs": [
        {
          "name": "stdout",
          "output_type": "stream",
          "text": [
            "59\n"
          ]
        }
      ],
      "source": [
        "print(Hitter[\"Salary\"].isnull().sum())"
      ]
    },
    {
      "cell_type": "code",
      "execution_count": 85,
      "metadata": {
        "colab": {
          "base_uri": "https://localhost:8080/",
          "height": 322
        },
        "id": "Co-B-zQkrhl3",
        "outputId": "e5e22fe1-13e0-4be6-d8f5-79a9013d5887"
      },
      "outputs": [
        {
          "name": "stdout",
          "output_type": "stream",
          "text": [
            "(322, 20)\n",
            "(263, 20)\n",
            "0\n"
          ]
        },
        {
          "data": {
            "text/html": [
              "\n",
              "  <div id=\"df-a19ac088-bf58-4827-a892-d3f184cd3ae8\">\n",
              "    <div class=\"colab-df-container\">\n",
              "      <div>\n",
              "<style scoped>\n",
              "    .dataframe tbody tr th:only-of-type {\n",
              "        vertical-align: middle;\n",
              "    }\n",
              "\n",
              "    .dataframe tbody tr th {\n",
              "        vertical-align: top;\n",
              "    }\n",
              "\n",
              "    .dataframe thead th {\n",
              "        text-align: right;\n",
              "    }\n",
              "</style>\n",
              "<table border=\"1\" class=\"dataframe\">\n",
              "  <thead>\n",
              "    <tr style=\"text-align: right;\">\n",
              "      <th></th>\n",
              "      <th>AtBat</th>\n",
              "      <th>Hits</th>\n",
              "      <th>HmRun</th>\n",
              "      <th>Runs</th>\n",
              "      <th>RBI</th>\n",
              "      <th>Walks</th>\n",
              "      <th>Years</th>\n",
              "      <th>CAtBat</th>\n",
              "      <th>CHits</th>\n",
              "      <th>CHmRun</th>\n",
              "      <th>CRuns</th>\n",
              "      <th>CRBI</th>\n",
              "      <th>CWalks</th>\n",
              "      <th>PutOuts</th>\n",
              "      <th>Assists</th>\n",
              "      <th>Errors</th>\n",
              "      <th>Salary</th>\n",
              "      <th>League_N</th>\n",
              "      <th>Division_W</th>\n",
              "      <th>NewLeague_N</th>\n",
              "    </tr>\n",
              "  </thead>\n",
              "  <tbody>\n",
              "    <tr>\n",
              "      <th>1</th>\n",
              "      <td>315</td>\n",
              "      <td>81</td>\n",
              "      <td>7</td>\n",
              "      <td>24</td>\n",
              "      <td>38</td>\n",
              "      <td>39</td>\n",
              "      <td>14</td>\n",
              "      <td>3449</td>\n",
              "      <td>835</td>\n",
              "      <td>69</td>\n",
              "      <td>321</td>\n",
              "      <td>414</td>\n",
              "      <td>375</td>\n",
              "      <td>632</td>\n",
              "      <td>43</td>\n",
              "      <td>10</td>\n",
              "      <td>475.0</td>\n",
              "      <td>1</td>\n",
              "      <td>1</td>\n",
              "      <td>1</td>\n",
              "    </tr>\n",
              "    <tr>\n",
              "      <th>2</th>\n",
              "      <td>479</td>\n",
              "      <td>130</td>\n",
              "      <td>18</td>\n",
              "      <td>66</td>\n",
              "      <td>72</td>\n",
              "      <td>76</td>\n",
              "      <td>3</td>\n",
              "      <td>1624</td>\n",
              "      <td>457</td>\n",
              "      <td>63</td>\n",
              "      <td>224</td>\n",
              "      <td>266</td>\n",
              "      <td>263</td>\n",
              "      <td>880</td>\n",
              "      <td>82</td>\n",
              "      <td>14</td>\n",
              "      <td>480.0</td>\n",
              "      <td>0</td>\n",
              "      <td>1</td>\n",
              "      <td>0</td>\n",
              "    </tr>\n",
              "    <tr>\n",
              "      <th>3</th>\n",
              "      <td>496</td>\n",
              "      <td>141</td>\n",
              "      <td>20</td>\n",
              "      <td>65</td>\n",
              "      <td>78</td>\n",
              "      <td>37</td>\n",
              "      <td>11</td>\n",
              "      <td>5628</td>\n",
              "      <td>1575</td>\n",
              "      <td>225</td>\n",
              "      <td>828</td>\n",
              "      <td>838</td>\n",
              "      <td>354</td>\n",
              "      <td>200</td>\n",
              "      <td>11</td>\n",
              "      <td>3</td>\n",
              "      <td>500.0</td>\n",
              "      <td>1</td>\n",
              "      <td>0</td>\n",
              "      <td>1</td>\n",
              "    </tr>\n",
              "    <tr>\n",
              "      <th>4</th>\n",
              "      <td>321</td>\n",
              "      <td>87</td>\n",
              "      <td>10</td>\n",
              "      <td>39</td>\n",
              "      <td>42</td>\n",
              "      <td>30</td>\n",
              "      <td>2</td>\n",
              "      <td>396</td>\n",
              "      <td>101</td>\n",
              "      <td>12</td>\n",
              "      <td>48</td>\n",
              "      <td>46</td>\n",
              "      <td>33</td>\n",
              "      <td>805</td>\n",
              "      <td>40</td>\n",
              "      <td>4</td>\n",
              "      <td>91.5</td>\n",
              "      <td>1</td>\n",
              "      <td>0</td>\n",
              "      <td>1</td>\n",
              "    </tr>\n",
              "    <tr>\n",
              "      <th>5</th>\n",
              "      <td>594</td>\n",
              "      <td>169</td>\n",
              "      <td>4</td>\n",
              "      <td>74</td>\n",
              "      <td>51</td>\n",
              "      <td>35</td>\n",
              "      <td>11</td>\n",
              "      <td>4408</td>\n",
              "      <td>1133</td>\n",
              "      <td>19</td>\n",
              "      <td>501</td>\n",
              "      <td>336</td>\n",
              "      <td>194</td>\n",
              "      <td>282</td>\n",
              "      <td>421</td>\n",
              "      <td>25</td>\n",
              "      <td>750.0</td>\n",
              "      <td>0</td>\n",
              "      <td>1</td>\n",
              "      <td>0</td>\n",
              "    </tr>\n",
              "  </tbody>\n",
              "</table>\n",
              "</div>\n",
              "      <button class=\"colab-df-convert\" onclick=\"convertToInteractive('df-a19ac088-bf58-4827-a892-d3f184cd3ae8')\"\n",
              "              title=\"Convert this dataframe to an interactive table.\"\n",
              "              style=\"display:none;\">\n",
              "        \n",
              "  <svg xmlns=\"http://www.w3.org/2000/svg\" height=\"24px\"viewBox=\"0 0 24 24\"\n",
              "       width=\"24px\">\n",
              "    <path d=\"M0 0h24v24H0V0z\" fill=\"none\"/>\n",
              "    <path d=\"M18.56 5.44l.94 2.06.94-2.06 2.06-.94-2.06-.94-.94-2.06-.94 2.06-2.06.94zm-11 1L8.5 8.5l.94-2.06 2.06-.94-2.06-.94L8.5 2.5l-.94 2.06-2.06.94zm10 10l.94 2.06.94-2.06 2.06-.94-2.06-.94-.94-2.06-.94 2.06-2.06.94z\"/><path d=\"M17.41 7.96l-1.37-1.37c-.4-.4-.92-.59-1.43-.59-.52 0-1.04.2-1.43.59L10.3 9.45l-7.72 7.72c-.78.78-.78 2.05 0 2.83L4 21.41c.39.39.9.59 1.41.59.51 0 1.02-.2 1.41-.59l7.78-7.78 2.81-2.81c.8-.78.8-2.07 0-2.86zM5.41 20L4 18.59l7.72-7.72 1.47 1.35L5.41 20z\"/>\n",
              "  </svg>\n",
              "      </button>\n",
              "      \n",
              "  <style>\n",
              "    .colab-df-container {\n",
              "      display:flex;\n",
              "      flex-wrap:wrap;\n",
              "      gap: 12px;\n",
              "    }\n",
              "\n",
              "    .colab-df-convert {\n",
              "      background-color: #E8F0FE;\n",
              "      border: none;\n",
              "      border-radius: 50%;\n",
              "      cursor: pointer;\n",
              "      display: none;\n",
              "      fill: #1967D2;\n",
              "      height: 32px;\n",
              "      padding: 0 0 0 0;\n",
              "      width: 32px;\n",
              "    }\n",
              "\n",
              "    .colab-df-convert:hover {\n",
              "      background-color: #E2EBFA;\n",
              "      box-shadow: 0px 1px 2px rgba(60, 64, 67, 0.3), 0px 1px 3px 1px rgba(60, 64, 67, 0.15);\n",
              "      fill: #174EA6;\n",
              "    }\n",
              "\n",
              "    [theme=dark] .colab-df-convert {\n",
              "      background-color: #3B4455;\n",
              "      fill: #D2E3FC;\n",
              "    }\n",
              "\n",
              "    [theme=dark] .colab-df-convert:hover {\n",
              "      background-color: #434B5C;\n",
              "      box-shadow: 0px 1px 3px 1px rgba(0, 0, 0, 0.15);\n",
              "      filter: drop-shadow(0px 1px 2px rgba(0, 0, 0, 0.3));\n",
              "      fill: #FFFFFF;\n",
              "    }\n",
              "  </style>\n",
              "\n",
              "      <script>\n",
              "        const buttonEl =\n",
              "          document.querySelector('#df-a19ac088-bf58-4827-a892-d3f184cd3ae8 button.colab-df-convert');\n",
              "        buttonEl.style.display =\n",
              "          google.colab.kernel.accessAllowed ? 'block' : 'none';\n",
              "\n",
              "        async function convertToInteractive(key) {\n",
              "          const element = document.querySelector('#df-a19ac088-bf58-4827-a892-d3f184cd3ae8');\n",
              "          const dataTable =\n",
              "            await google.colab.kernel.invokeFunction('convertToInteractive',\n",
              "                                                     [key], {});\n",
              "          if (!dataTable) return;\n",
              "\n",
              "          const docLinkHtml = 'Like what you see? Visit the ' +\n",
              "            '<a target=\"_blank\" href=https://colab.research.google.com/notebooks/data_table.ipynb>data table notebook</a>'\n",
              "            + ' to learn more about interactive tables.';\n",
              "          element.innerHTML = '';\n",
              "          dataTable['output_type'] = 'display_data';\n",
              "          await google.colab.output.renderOutput(dataTable, element);\n",
              "          const docLink = document.createElement('div');\n",
              "          docLink.innerHTML = docLinkHtml;\n",
              "          element.appendChild(docLink);\n",
              "        }\n",
              "      </script>\n",
              "    </div>\n",
              "  </div>\n",
              "  "
            ],
            "text/plain": [
              "   AtBat  Hits  HmRun  Runs  RBI  Walks  Years  CAtBat  CHits  CHmRun  CRuns  \\\n",
              "1    315    81      7    24   38     39     14    3449    835      69    321   \n",
              "2    479   130     18    66   72     76      3    1624    457      63    224   \n",
              "3    496   141     20    65   78     37     11    5628   1575     225    828   \n",
              "4    321    87     10    39   42     30      2     396    101      12     48   \n",
              "5    594   169      4    74   51     35     11    4408   1133      19    501   \n",
              "\n",
              "   CRBI  CWalks  PutOuts  Assists  Errors  Salary  League_N  Division_W  \\\n",
              "1   414     375      632       43      10   475.0         1           1   \n",
              "2   266     263      880       82      14   480.0         0           1   \n",
              "3   838     354      200       11       3   500.0         1           0   \n",
              "4    46      33      805       40       4    91.5         1           0   \n",
              "5   336     194      282      421      25   750.0         0           1   \n",
              "\n",
              "   NewLeague_N  \n",
              "1            1  \n",
              "2            0  \n",
              "3            1  \n",
              "4            1  \n",
              "5            0  "
            ]
          },
          "execution_count": 85,
          "metadata": {},
          "output_type": "execute_result"
        }
      ],
      "source": [
        "# Print the dimensions of the original Hitters data (322 rows x 20 columns)\n",
        "print(Hitter.shape)\n",
        "\n",
        "# Drop any rows the contain missing values\n",
        "Hitter = Hitter.dropna()\n",
        "\n",
        "# Print the dimensions of the modified Hitters data (263 rows x 20 columns)\n",
        "print(Hitter.shape)\n",
        "\n",
        "# One last check: should return 0\n",
        "print(Hitter[\"Salary\"].isnull().sum())\n",
        "\n",
        "# Create dummy variables for qualitative features, since sklearn will not create dummy variables for categorical variables\n",
        "qual = ['League', 'Division', 'NewLeague']\n",
        "Hitter = pd.get_dummies(Hitter, columns=qual, drop_first=True)\n",
        "\n",
        "Hitter.head()"
      ]
    },
    {
      "cell_type": "markdown",
      "metadata": {
        "id": "4zuOQgOtrhl4"
      },
      "source": [
        "The `itertools.combinations` function can help us to generate all possible combinations contains exactly `k` element within from a list of elements.  We can then perform best subset selection by identifying the best model that contains a given number of predictors, where *best* is quantified using RSS. The following code implement the first stage of best subset selection."
      ]
    },
    {
      "cell_type": "code",
      "execution_count": 86,
      "metadata": {
        "colab": {
          "base_uri": "https://localhost:8080/"
        },
        "id": "heTofPE8rhl4",
        "outputId": "f68f36d1-8672-49a9-aef1-47681689b98d"
      },
      "outputs": [
        {
          "data": {
            "text/plain": [
              "[(1, 2, 3), (1, 2, 4), (1, 3, 4), (2, 3, 4)]"
            ]
          },
          "execution_count": 86,
          "metadata": {},
          "output_type": "execute_result"
        }
      ],
      "source": [
        "list(itertools.combinations([1,2,3,4], 3))"
      ]
    },
    {
      "cell_type": "code",
      "execution_count": 87,
      "metadata": {
        "id": "65wm-34rrhl5"
      },
      "outputs": [],
      "source": [
        "def get_models(k_features, X, y):\n",
        "    \"\"\"\n",
        "    Fit all possible models that contain exactly k_features predictors.\n",
        "    X is predictor and y is target or response.\n",
        "    \"\"\"\n",
        "    \n",
        "    n_features = X.shape[1]\n",
        "    \n",
        "    X_combos = itertools.combinations(list(X.columns), k_features)\n",
        "    \n",
        "    best_score = np.inf\n",
        "    \n",
        "    for X_label in X_combos:\n",
        "        X_smf = ' + '.join(X_label)\n",
        "        f     = 'Salary ~ {}'.format(X_smf)\n",
        "        # Fit model\n",
        "        lin_reg = smf.ols(formula=f, data=pd.concat([X, y], axis=1)).fit()\n",
        "        score = lin_reg.ssr\n",
        "        if score < best_score:\n",
        "            best_score, best_subset = score, X_label\n",
        "            best_reg = lin_reg\n",
        "    \n",
        "\n",
        "    return best_score, best_reg, best_subset"
      ]
    },
    {
      "cell_type": "markdown",
      "metadata": {
        "id": "9c136ef4rhl5"
      },
      "source": [
        "Which model with 2 predictors yields lowest RSS score?"
      ]
    },
    {
      "cell_type": "code",
      "execution_count": 88,
      "metadata": {
        "colab": {
          "base_uri": "https://localhost:8080/"
        },
        "id": "-JPrAXyLrhl6",
        "outputId": "72b894f2-c829-4cec-f634-2f5891664d5b",
        "tags": []
      },
      "outputs": [
        {
          "name": "stdout",
          "output_type": "stream",
          "text": [
            "This model yields the lowest RSS score for the subset of models with 2 predictors:\n",
            "(30646559.890372835, <statsmodels.regression.linear_model.RegressionResultsWrapper object at 0x7f81074d46d0>, ('Hits', 'CRBI'))\n"
          ]
        }
      ],
      "source": [
        "X = Hitter.drop('Salary', axis=1) #19 variables remain\n",
        "y = Hitter['Salary'] # put Salary as response variable\n",
        "\n",
        "# Set number for predictors in subset\n",
        "k = 2\n",
        "\n",
        "# Get best models in subset\n",
        "subset = get_models(2, X, y)\n",
        "\n",
        "# Display results\n",
        "print('This model yields the lowest RSS score for the subset of models with {} predictors:'.format(k))\n",
        "print(subset)"
      ]
    },
    {
      "cell_type": "markdown",
      "metadata": {
        "id": "HKZzRqDWrhl6"
      },
      "source": [
        "First we fit all possible models in each subset of models with $k$ predictors. This turns out to be a very computationally expensive process as number of possible combinations without repetition is given by:\n",
        "\n",
        "$\\frac{p!}{k!(p-k)!}$\n",
        "\n",
        "Where $p$ is number of predictors to choose from and we choose $k$ of them."
      ]
    },
    {
      "cell_type": "code",
      "execution_count": null,
      "metadata": {
        "colab": {
          "base_uri": "https://localhost:8080/"
        },
        "id": "-82JY2Trrhl6",
        "outputId": "6b25744f-a95d-4b27-e3fb-e5ab22128fab"
      },
      "outputs": [
        {
          "name": "stdout",
          "output_type": "stream",
          "text": [
            "Progess: i = 1, done\n",
            "Progess: i = 2, done\n",
            "Progess: i = 3, done\n",
            "Progess: i = 4, done\n"
          ]
        }
      ],
      "source": [
        "# get all model results\n",
        "rss = []\n",
        "sub = []\n",
        "reg = []\n",
        "kft = []\n",
        "\n",
        "for i in range(1,5):\n",
        "    best_score, best_reg, best_subset = get_models(i, X, y)\n",
        "    \n",
        "    rss.append(best_score)\n",
        "    sub.append(best_subset)\n",
        "    reg.append(best_reg)\n",
        "    kft.append(i)\n",
        "    print('Progess: i = {}, done'.format(i))"
      ]
    },
    {
      "cell_type": "code",
      "execution_count": null,
      "metadata": {
        "id": "xE4v7Q40rhl6"
      },
      "outputs": [],
      "source": [
        "results = pd.DataFrame({'kft': kft, 'rss': rss, 'reg': reg, 'sub': sub},\n",
        "                           columns = ['rss', 'reg', 'sub', 'kft']).set_index('kft')"
      ]
    },
    {
      "cell_type": "code",
      "execution_count": null,
      "metadata": {
        "colab": {
          "base_uri": "https://localhost:8080/",
          "height": 206
        },
        "id": "l7hUB7z9rhl7",
        "outputId": "27dbebe4-81ac-4325-8594-ee0a1ab8956e"
      },
      "outputs": [
        {
          "data": {
            "text/html": [
              "\n",
              "  <div id=\"df-2bd50750-3f56-4098-9241-b26b45a1a226\">\n",
              "    <div class=\"colab-df-container\">\n",
              "      <div>\n",
              "<style scoped>\n",
              "    .dataframe tbody tr th:only-of-type {\n",
              "        vertical-align: middle;\n",
              "    }\n",
              "\n",
              "    .dataframe tbody tr th {\n",
              "        vertical-align: top;\n",
              "    }\n",
              "\n",
              "    .dataframe thead th {\n",
              "        text-align: right;\n",
              "    }\n",
              "</style>\n",
              "<table border=\"1\" class=\"dataframe\">\n",
              "  <thead>\n",
              "    <tr style=\"text-align: right;\">\n",
              "      <th></th>\n",
              "      <th>rss</th>\n",
              "      <th>reg</th>\n",
              "      <th>sub</th>\n",
              "    </tr>\n",
              "    <tr>\n",
              "      <th>kft</th>\n",
              "      <th></th>\n",
              "      <th></th>\n",
              "      <th></th>\n",
              "    </tr>\n",
              "  </thead>\n",
              "  <tbody>\n",
              "    <tr>\n",
              "      <th>1</th>\n",
              "      <td>3.617968e+07</td>\n",
              "      <td>&lt;statsmodels.regression.linear_model.Regressio...</td>\n",
              "      <td>(CRBI,)</td>\n",
              "    </tr>\n",
              "    <tr>\n",
              "      <th>2</th>\n",
              "      <td>3.064656e+07</td>\n",
              "      <td>&lt;statsmodels.regression.linear_model.Regressio...</td>\n",
              "      <td>(Hits, CRBI)</td>\n",
              "    </tr>\n",
              "    <tr>\n",
              "      <th>3</th>\n",
              "      <td>2.924930e+07</td>\n",
              "      <td>&lt;statsmodels.regression.linear_model.Regressio...</td>\n",
              "      <td>(Hits, CRBI, PutOuts)</td>\n",
              "    </tr>\n",
              "    <tr>\n",
              "      <th>4</th>\n",
              "      <td>2.797085e+07</td>\n",
              "      <td>&lt;statsmodels.regression.linear_model.Regressio...</td>\n",
              "      <td>(Hits, CRBI, PutOuts, Division_W)</td>\n",
              "    </tr>\n",
              "  </tbody>\n",
              "</table>\n",
              "</div>\n",
              "      <button class=\"colab-df-convert\" onclick=\"convertToInteractive('df-2bd50750-3f56-4098-9241-b26b45a1a226')\"\n",
              "              title=\"Convert this dataframe to an interactive table.\"\n",
              "              style=\"display:none;\">\n",
              "        \n",
              "  <svg xmlns=\"http://www.w3.org/2000/svg\" height=\"24px\"viewBox=\"0 0 24 24\"\n",
              "       width=\"24px\">\n",
              "    <path d=\"M0 0h24v24H0V0z\" fill=\"none\"/>\n",
              "    <path d=\"M18.56 5.44l.94 2.06.94-2.06 2.06-.94-2.06-.94-.94-2.06-.94 2.06-2.06.94zm-11 1L8.5 8.5l.94-2.06 2.06-.94-2.06-.94L8.5 2.5l-.94 2.06-2.06.94zm10 10l.94 2.06.94-2.06 2.06-.94-2.06-.94-.94-2.06-.94 2.06-2.06.94z\"/><path d=\"M17.41 7.96l-1.37-1.37c-.4-.4-.92-.59-1.43-.59-.52 0-1.04.2-1.43.59L10.3 9.45l-7.72 7.72c-.78.78-.78 2.05 0 2.83L4 21.41c.39.39.9.59 1.41.59.51 0 1.02-.2 1.41-.59l7.78-7.78 2.81-2.81c.8-.78.8-2.07 0-2.86zM5.41 20L4 18.59l7.72-7.72 1.47 1.35L5.41 20z\"/>\n",
              "  </svg>\n",
              "      </button>\n",
              "      \n",
              "  <style>\n",
              "    .colab-df-container {\n",
              "      display:flex;\n",
              "      flex-wrap:wrap;\n",
              "      gap: 12px;\n",
              "    }\n",
              "\n",
              "    .colab-df-convert {\n",
              "      background-color: #E8F0FE;\n",
              "      border: none;\n",
              "      border-radius: 50%;\n",
              "      cursor: pointer;\n",
              "      display: none;\n",
              "      fill: #1967D2;\n",
              "      height: 32px;\n",
              "      padding: 0 0 0 0;\n",
              "      width: 32px;\n",
              "    }\n",
              "\n",
              "    .colab-df-convert:hover {\n",
              "      background-color: #E2EBFA;\n",
              "      box-shadow: 0px 1px 2px rgba(60, 64, 67, 0.3), 0px 1px 3px 1px rgba(60, 64, 67, 0.15);\n",
              "      fill: #174EA6;\n",
              "    }\n",
              "\n",
              "    [theme=dark] .colab-df-convert {\n",
              "      background-color: #3B4455;\n",
              "      fill: #D2E3FC;\n",
              "    }\n",
              "\n",
              "    [theme=dark] .colab-df-convert:hover {\n",
              "      background-color: #434B5C;\n",
              "      box-shadow: 0px 1px 3px 1px rgba(0, 0, 0, 0.15);\n",
              "      filter: drop-shadow(0px 1px 2px rgba(0, 0, 0, 0.3));\n",
              "      fill: #FFFFFF;\n",
              "    }\n",
              "  </style>\n",
              "\n",
              "      <script>\n",
              "        const buttonEl =\n",
              "          document.querySelector('#df-2bd50750-3f56-4098-9241-b26b45a1a226 button.colab-df-convert');\n",
              "        buttonEl.style.display =\n",
              "          google.colab.kernel.accessAllowed ? 'block' : 'none';\n",
              "\n",
              "        async function convertToInteractive(key) {\n",
              "          const element = document.querySelector('#df-2bd50750-3f56-4098-9241-b26b45a1a226');\n",
              "          const dataTable =\n",
              "            await google.colab.kernel.invokeFunction('convertToInteractive',\n",
              "                                                     [key], {});\n",
              "          if (!dataTable) return;\n",
              "\n",
              "          const docLinkHtml = 'Like what you see? Visit the ' +\n",
              "            '<a target=\"_blank\" href=https://colab.research.google.com/notebooks/data_table.ipynb>data table notebook</a>'\n",
              "            + ' to learn more about interactive tables.';\n",
              "          element.innerHTML = '';\n",
              "          dataTable['output_type'] = 'display_data';\n",
              "          await google.colab.output.renderOutput(dataTable, element);\n",
              "          const docLink = document.createElement('div');\n",
              "          docLink.innerHTML = docLinkHtml;\n",
              "          element.appendChild(docLink);\n",
              "        }\n",
              "      </script>\n",
              "    </div>\n",
              "  </div>\n",
              "  "
            ],
            "text/plain": [
              "              rss                                                reg  \\\n",
              "kft                                                                    \n",
              "1    3.617968e+07  <statsmodels.regression.linear_model.Regressio...   \n",
              "2    3.064656e+07  <statsmodels.regression.linear_model.Regressio...   \n",
              "3    2.924930e+07  <statsmodels.regression.linear_model.Regressio...   \n",
              "4    2.797085e+07  <statsmodels.regression.linear_model.Regressio...   \n",
              "\n",
              "                                   sub  \n",
              "kft                                     \n",
              "1                              (CRBI,)  \n",
              "2                         (Hits, CRBI)  \n",
              "3                (Hits, CRBI, PutOuts)  \n",
              "4    (Hits, CRBI, PutOuts, Division_W)  "
            ]
          },
          "execution_count": 12,
          "metadata": {},
          "output_type": "execute_result"
        }
      ],
      "source": [
        "results"
      ]
    },
    {
      "cell_type": "markdown",
      "metadata": {
        "id": "8cy83qEhrhl7"
      },
      "source": [
        "We can then choose the best model using different criteria."
      ]
    },
    {
      "cell_type": "code",
      "execution_count": null,
      "metadata": {
        "colab": {
          "base_uri": "https://localhost:8080/",
          "height": 598
        },
        "id": "AnpKwAEHrhl7",
        "outputId": "5d32f61f-d3ba-4fe7-f472-608a60574d25"
      },
      "outputs": [
        {
          "data": {
            "text/plain": [
              "Text(0, 0.5, 'BIC')"
            ]
          },
          "execution_count": 13,
          "metadata": {},
          "output_type": "execute_result"
        },
        {
          "data": {
            "image/png": "[encoded data removed]",
            "text/plain": [
              "<Figure size 1080x648 with 4 Axes>"
            ]
          },
          "metadata": {},
          "output_type": "display_data"
        }
      ],
      "source": [
        "plt.figure(figsize=(15,9))\n",
        "plt.rcParams.update({'font.size': 14, 'lines.markersize': 10})\n",
        "\n",
        "# Set up a 2x2 grid so we can look at 4 plots at once\n",
        "plt.subplot(2, 2, 1)\n",
        "\n",
        "# We will now plot a red dot to indicate the model with the largest adjusted R^2 statistic.\n",
        "# The argmax() function can be used to identify the location of the maximum point of a vector\n",
        "ax = sns.lineplot(x = \"kft\", y = \"rss\", data = results)\n",
        "ax.set_xlabel('# Predictors')\n",
        "ax.set_ylabel('RSS')\n",
        "\n",
        "# We will now plot a red dot to indicate the model with the largest adjusted R^2 statistic.\n",
        "# The argmax() function can be used to identify the location of the maximum point of a vector\n",
        "\n",
        "results[\"rsquared_adj\"] = results.apply(lambda row: row[1].rsquared_adj, axis=1)\n",
        "\n",
        "plt.subplot(2, 2, 2)\n",
        "ax = sns.lineplot(x = \"kft\", y = \"rsquared_adj\", data = results)\n",
        "plt.plot(results[\"rsquared_adj\"].argmax()+1, results[\"rsquared_adj\"].max(), \"or\")\n",
        "ax.set_xlabel('# Predictors')\n",
        "ax.set_ylabel('adjusted rsquared')\n",
        "\n",
        "# We'll do the same for AIC and BIC, this time looking for the models with the SMALLEST statistic\n",
        "results[\"aic\"] = results.apply(lambda row: row[1].aic, axis=1)\n",
        "\n",
        "plt.subplot(2, 2, 3)\n",
        "ax = sns.lineplot(x = \"kft\", y = \"aic\", data = results)\n",
        "plt.plot(results[\"aic\"].argmin()+1, results[\"aic\"].min(), \"or\")\n",
        "ax.set_xlabel('# Predictors')\n",
        "ax.set_ylabel('AIC')\n",
        "\n",
        "results[\"bic\"] = results.apply(lambda row: row[1].bic, axis=1)\n",
        "\n",
        "plt.subplot(2, 2, 4)\n",
        "ax = sns.lineplot(x = \"kft\", y = \"bic\", data = results)\n",
        "plt.plot(results[\"bic\"].argmin()+1, results[\"bic\"].min(), \"or\")\n",
        "ax.set_xlabel('# Predictors')\n",
        "ax.set_ylabel('BIC')"
      ]
    },
    {
      "cell_type": "markdown",
      "metadata": {
        "id": "x2viFAe0rhl8"
      },
      "source": [
        "The package [`mlxtend`](http://rasbt.github.io/mlxtend/) can help us to perform feature selection, it internally use cross-validation to estimate test errors for all possible combinations of features instead of dividing the procedure into two stage"
      ]
    },
    {
      "cell_type": "code",
      "execution_count": null,
      "metadata": {
        "id": "cAAaAppnrhl8"
      },
      "outputs": [],
      "source": [
        "# Perform an Exhaustive Search. The EFS and SFS packages use 'neg_mean_squared_error'. The 'mean_squared_error' seems to have been deprecated. I think this is just the MSE with the a negative sign.\n",
        "lr = LinearRegression()\n",
        "efs1 = EFS(lr, \n",
        "           min_features=1,\n",
        "           max_features=4,\n",
        "           scoring='neg_mean_squared_error',\n",
        "           print_progress=True,\n",
        "           n_jobs=-1,\n",
        "           cv=5) #5-fold"
      ]
    },
    {
      "cell_type": "code",
      "execution_count": null,
      "metadata": {
        "colab": {
          "base_uri": "https://localhost:8080/"
        },
        "id": "JnjHnSNMrhl9",
        "outputId": "1456223d-4cca-4ebd-8c16-5bb7c4b17da7"
      },
      "outputs": [
        {
          "name": "stderr",
          "output_type": "stream",
          "text": [
            "Features: 5035/5035"
          ]
        },
        {
          "data": {
            "text/plain": [
              "ExhaustiveFeatureSelector(estimator=LinearRegression(),\n",
              "                          feature_groups=[[0], [1], [2], [3], [4], [5], [6],\n",
              "                                          [7], [8], [9], [10], [11], [12], [13],\n",
              "                                          [14], [15], [16], [17], [18]],\n",
              "                          max_features=4, n_jobs=-1,\n",
              "                          scoring='neg_mean_squared_error')"
            ]
          },
          "execution_count": 15,
          "metadata": {},
          "output_type": "execute_result"
        }
      ],
      "source": [
        "efs1.fit(X, y)"
      ]
    },
    {
      "cell_type": "code",
      "execution_count": null,
      "metadata": {
        "colab": {
          "base_uri": "https://localhost:8080/"
        },
        "id": "e9YHiClP3_7b",
        "outputId": "61739f92-934a-4734-dc1a-d39aa08379a5"
      },
      "outputs": [
        {
          "data": {
            "text/plain": [
              "('AtBat', 'Hits', 'Walks', 'CRBI')"
            ]
          },
          "execution_count": 16,
          "metadata": {},
          "output_type": "execute_result"
        }
      ],
      "source": [
        "efs1.best_feature_names_"
      ]
    },
    {
      "cell_type": "code",
      "execution_count": null,
      "metadata": {
        "colab": {
          "base_uri": "https://localhost:8080/"
        },
        "id": "AvUTrjTwrhl9",
        "outputId": "39aecda0-8579-4c70-d117-95d1f35b558d"
      },
      "outputs": [
        {
          "name": "stderr",
          "output_type": "stream",
          "text": [
            "Features: 19/19"
          ]
        },
        {
          "name": "stdout",
          "output_type": "stream",
          "text": [
            "Progess: i = 1, done\n"
          ]
        },
        {
          "name": "stderr",
          "output_type": "stream",
          "text": [
            "Features: 171/171"
          ]
        },
        {
          "name": "stdout",
          "output_type": "stream",
          "text": [
            "Progess: i = 2, done\n"
          ]
        },
        {
          "name": "stderr",
          "output_type": "stream",
          "text": [
            "Features: 969/969"
          ]
        },
        {
          "name": "stdout",
          "output_type": "stream",
          "text": [
            "Progess: i = 3, done\n"
          ]
        },
        {
          "name": "stderr",
          "output_type": "stream",
          "text": [
            "Features: 3876/3876"
          ]
        },
        {
          "name": "stdout",
          "output_type": "stream",
          "text": [
            "Progess: i = 4, done\n"
          ]
        },
        {
          "name": "stderr",
          "output_type": "stream",
          "text": [
            "Features: 11628/11628"
          ]
        },
        {
          "name": "stdout",
          "output_type": "stream",
          "text": [
            "Progess: i = 5, done\n"
          ]
        },
        {
          "name": "stderr",
          "output_type": "stream",
          "text": [
            "Features: 27132/27132"
          ]
        },
        {
          "name": "stdout",
          "output_type": "stream",
          "text": [
            "Progess: i = 6, done\n"
          ]
        },
        {
          "name": "stderr",
          "output_type": "stream",
          "text": [
            "Features: 50388/50388"
          ]
        },
        {
          "name": "stdout",
          "output_type": "stream",
          "text": [
            "Progess: i = 7, done\n"
          ]
        },
        {
          "name": "stderr",
          "output_type": "stream",
          "text": [
            "Features: 75582/75582"
          ]
        },
        {
          "name": "stdout",
          "output_type": "stream",
          "text": [
            "Progess: i = 8, done\n"
          ]
        },
        {
          "name": "stderr",
          "output_type": "stream",
          "text": [
            "Features: 92378/92378"
          ]
        },
        {
          "name": "stdout",
          "output_type": "stream",
          "text": [
            "Progess: i = 9, done\n"
          ]
        },
        {
          "name": "stderr",
          "output_type": "stream",
          "text": [
            "Features: 92378/92378"
          ]
        },
        {
          "name": "stdout",
          "output_type": "stream",
          "text": [
            "Progess: i = 10, done\n"
          ]
        },
        {
          "name": "stderr",
          "output_type": "stream",
          "text": [
            "Features: 75582/75582"
          ]
        },
        {
          "name": "stdout",
          "output_type": "stream",
          "text": [
            "Progess: i = 11, done\n"
          ]
        },
        {
          "name": "stderr",
          "output_type": "stream",
          "text": [
            "Features: 50388/50388"
          ]
        },
        {
          "name": "stdout",
          "output_type": "stream",
          "text": [
            "Progess: i = 12, done\n"
          ]
        },
        {
          "name": "stderr",
          "output_type": "stream",
          "text": [
            "Features: 27132/27132"
          ]
        },
        {
          "name": "stdout",
          "output_type": "stream",
          "text": [
            "Progess: i = 13, done\n"
          ]
        },
        {
          "name": "stderr",
          "output_type": "stream",
          "text": [
            "Features: 11628/11628"
          ]
        },
        {
          "name": "stdout",
          "output_type": "stream",
          "text": [
            "Progess: i = 14, done\n"
          ]
        },
        {
          "name": "stderr",
          "output_type": "stream",
          "text": [
            "Features: 3876/3876"
          ]
        },
        {
          "name": "stdout",
          "output_type": "stream",
          "text": [
            "Progess: i = 15, done\n"
          ]
        },
        {
          "name": "stderr",
          "output_type": "stream",
          "text": [
            "Features: 969/969"
          ]
        },
        {
          "name": "stdout",
          "output_type": "stream",
          "text": [
            "Progess: i = 16, done\n"
          ]
        },
        {
          "name": "stderr",
          "output_type": "stream",
          "text": [
            "Features: 18/19"
          ]
        },
        {
          "name": "stdout",
          "output_type": "stream",
          "text": [
            "Progess: i = 17, done\n"
          ]
        },
        {
          "name": "stderr",
          "output_type": "stream",
          "text": [
            "Features: 1/1"
          ]
        },
        {
          "name": "stdout",
          "output_type": "stream",
          "text": [
            "Progess: i = 18, done\n",
            "Progess: i = 19, done\n"
          ]
        }
      ],
      "source": [
        "## This is a time consuming process, be careful. You may consider setting --ServerApp.iopub_msg_rate_limit to a larger value or not to execute this cell\n",
        "r22 = []\n",
        "sub = []\n",
        "kft = []\n",
        "for i in range(1,20):\n",
        "    efs1 = EFS(lr, \n",
        "           min_features=i,\n",
        "           max_features=i,\n",
        "           #scoring='neg_mean_squared_error', to calculate AIC, BIC you will need rss and the estimation of sigma (also from rss) https://xavierbourretsicotte.github.io/subset_selection.html\n",
        "           scoring='r2',\n",
        "           print_progress=True,\n",
        "           cv = 0, #no CV \n",
        "           n_jobs=-1) #parallelism\n",
        "    efs1.fit(X, y)\n",
        "    best_score, best_subset = efs1.best_score_, efs1.best_feature_names_\n",
        "    \n",
        "    r22.append(best_score)\n",
        "    sub.append(best_subset)\n",
        "    kft.append(i)\n",
        "    print('Progess: i = {}, done'.format(i))"
      ]
    },
    {
      "cell_type": "code",
      "execution_count": null,
      "metadata": {
        "colab": {
          "base_uri": "https://localhost:8080/"
        },
        "id": "fyeHuXp4rhl9",
        "outputId": "6c153837-c392-4b50-f5e7-1df4e2a81a4d"
      },
      "outputs": [
        {
          "data": {
            "text/plain": [
              "kft\n",
              "1                                               (CRBI,)\n",
              "2                                          (Hits, CRBI)\n",
              "3                                 (Hits, CRBI, PutOuts)\n",
              "4                     (Hits, CRBI, PutOuts, Division_W)\n",
              "5              (AtBat, Hits, CRBI, PutOuts, Division_W)\n",
              "6       (AtBat, Hits, Walks, CRBI, PutOuts, Division_W)\n",
              "7     (Hits, Walks, CAtBat, CHits, CHmRun, PutOuts, ...\n",
              "8     (AtBat, Hits, Walks, CHmRun, CRuns, CWalks, Pu...\n",
              "9     (AtBat, Hits, Walks, CAtBat, CRuns, CRBI, CWal...\n",
              "10    (AtBat, Hits, Walks, CAtBat, CRuns, CRBI, CWal...\n",
              "11    (AtBat, Hits, Walks, CAtBat, CRuns, CRBI, CWal...\n",
              "12    (AtBat, Hits, Runs, Walks, CAtBat, CRuns, CRBI...\n",
              "13    (AtBat, Hits, Runs, Walks, CAtBat, CRuns, CRBI...\n",
              "14    (AtBat, Hits, HmRun, Runs, Walks, CAtBat, CRun...\n",
              "15    (AtBat, Hits, HmRun, Runs, Walks, CAtBat, CHit...\n",
              "16    (AtBat, Hits, HmRun, Runs, RBI, Walks, CAtBat,...\n",
              "17    (AtBat, Hits, HmRun, Runs, RBI, Walks, CAtBat,...\n",
              "18    (AtBat, Hits, HmRun, Runs, RBI, Walks, Years, ...\n",
              "19    (AtBat, Hits, HmRun, Runs, RBI, Walks, Years, ...\n",
              "Name: sub, dtype: object"
            ]
          },
          "execution_count": 18,
          "metadata": {},
          "output_type": "execute_result"
        }
      ],
      "source": [
        "results2 = pd.DataFrame({'kft': kft, 'r2': r22, 'sub': sub},\n",
        "                           columns = ['r2', 'sub', 'kft']).set_index('kft')\n",
        "results2['sub']"
      ]
    },
    {
      "cell_type": "code",
      "execution_count": null,
      "metadata": {
        "id": "TxOxKxkRrhl-"
      },
      "outputs": [],
      "source": [
        "def adjust_r2(r2, num_examples, num_features):\n",
        "    coef = (num_examples - 1) / (num_examples - num_features - 1) \n",
        "    return 1 - (1 - r2) * coef"
      ]
    },
    {
      "cell_type": "code",
      "execution_count": null,
      "metadata": {
        "id": "wRwCENr6rhl-"
      },
      "outputs": [],
      "source": [
        "adj_r2 = []\n",
        "for i, r2 in enumerate(r22):\n",
        "    adj_r2.append(adjust_r2(r2=r2,\n",
        "                  num_examples=X.shape[0],\n",
        "                  num_features=i+1))"
      ]
    },
    {
      "cell_type": "code",
      "execution_count": null,
      "metadata": {
        "colab": {
          "base_uri": "https://localhost:8080/",
          "height": 311
        },
        "id": "uEU4u7KFrhl-",
        "outputId": "9c2fe492-40e4-4aac-fed0-0b6b92fd4d9a"
      },
      "outputs": [
        {
          "data": {
            "text/plain": [
              "Text(0, 0.5, 'adjusted rsquared')"
            ]
          },
          "execution_count": 21,
          "metadata": {},
          "output_type": "execute_result"
        },
        {
          "data": {
            "image/png": "[encoded data removed]",
            "text/plain": [
              "<Figure size 432x288 with 1 Axes>"
            ]
          },
          "metadata": {},
          "output_type": "display_data"
        }
      ],
      "source": [
        "adj_r2 = np.array(adj_r2)\n",
        "sns.lineplot(x=range(1,20), y=adj_r2)\n",
        "plt.plot(adj_r2.argmax()+1, adj_r2.max(), \"or\")\n",
        "plt.xticks(range(1,20))\n",
        "plt.xlabel('# Predictors')\n",
        "plt.ylabel('adjusted rsquared')"
      ]
    },
    {
      "cell_type": "markdown",
      "metadata": {
        "id": "LvvIUqoorhl-"
      },
      "source": [
        "According to the adjusted $R^2$, we see that the eleven-variable model is the best model. The predictor associated with the model is listed below."
      ]
    },
    {
      "cell_type": "code",
      "execution_count": null,
      "metadata": {
        "colab": {
          "base_uri": "https://localhost:8080/"
        },
        "id": "FSIDMrBNrhl-",
        "outputId": "c8c8e0c7-d2f3-4b68-b946-34719c41887c"
      },
      "outputs": [
        {
          "data": {
            "text/plain": [
              "('AtBat',\n",
              " 'Hits',\n",
              " 'Walks',\n",
              " 'CAtBat',\n",
              " 'CRuns',\n",
              " 'CRBI',\n",
              " 'CWalks',\n",
              " 'PutOuts',\n",
              " 'Assists',\n",
              " 'League_N',\n",
              " 'Division_W')"
            ]
          },
          "execution_count": 22,
          "metadata": {},
          "output_type": "execute_result"
        }
      ],
      "source": [
        "results2['sub'][11]"
      ]
    },
    {
      "cell_type": "markdown",
      "metadata": {
        "id": "JlP_WGWfrhl-"
      },
      "source": [
        "### Forward and Backward Stepwise Selection\n",
        "\n",
        "In practice, the best subset is quite time-consuming,  therefore forward or backward selection is usually prefered. Note that we do not consider null model below."
      ]
    },
    {
      "cell_type": "code",
      "execution_count": null,
      "metadata": {
        "id": "bef4YVQ8rhl-"
      },
      "outputs": [],
      "source": [
        "def processSubset(X_label):\n",
        "    # Fit model on feature_set and calculate RSS\n",
        "    X_smf = ' + '.join(X_label)\n",
        "    f     = 'Salary ~ {}'.format(X_smf)\n",
        "    # Fit model\n",
        "    lin_reg = smf.ols(formula=f, data=pd.concat([X, y], axis=1)).fit()\n",
        "    RSS = lin_reg.ssr\n",
        "    return {'model': lin_reg, 'RSS': RSS}"
      ]
    },
    {
      "cell_type": "code",
      "execution_count": null,
      "metadata": {
        "id": "nzjIJBFZrhl_"
      },
      "outputs": [],
      "source": [
        "def forward(predictors):\n",
        "\n",
        "    # Pull out predictors we still need to process\n",
        "    remaining_predictors = [p for p in X.columns if p not in predictors]\n",
        "      \n",
        "    results = []\n",
        "    \n",
        "    for p in remaining_predictors:\n",
        "        results.append(processSubset(predictors+[p]))\n",
        "    \n",
        "    # Wrap everything up in a nice dataframe\n",
        "    models = pd.DataFrame(results)\n",
        "    \n",
        "    # Choose the model with the lowest RSS\n",
        "    best_model = models.loc[models['RSS'].argmin()]\n",
        "    \n",
        "    # Return the best model, along with some other useful information about the model\n",
        "    return best_model\n",
        "\n",
        "def backward(predictors):\n",
        "    \n",
        "    results = []\n",
        "    \n",
        "    for combo in itertools.combinations(predictors, len(predictors)-1):\n",
        "        results.append(processSubset(combo))\n",
        "    \n",
        "    # Wrap everything up in a nice dataframe\n",
        "    models = pd.DataFrame(results)\n",
        "    \n",
        "    # Choose the model with the lowest RSS\n",
        "    best_model = models.loc[models['RSS'].argmin()]\n",
        "\n",
        "    return best_model"
      ]
    },
    {
      "cell_type": "code",
      "execution_count": null,
      "metadata": {
        "colab": {
          "base_uri": "https://localhost:8080/"
        },
        "id": "A3JpK-6mrhl_",
        "outputId": "8c81158b-e56f-4ff2-c6ab-0b544ac800e5"
      },
      "outputs": [
        {
          "name": "stdout",
          "output_type": "stream",
          "text": [
            "1 ['CRBI']\n",
            "2 ['CRBI', 'Hits']\n",
            "3 ['CRBI', 'Hits', 'PutOuts']\n",
            "4 ['CRBI', 'Hits', 'PutOuts', 'Division_W']\n",
            "5 ['CRBI', 'Hits', 'PutOuts', 'Division_W', 'AtBat']\n",
            "6 ['CRBI', 'Hits', 'PutOuts', 'Division_W', 'AtBat', 'Walks']\n",
            "7 ['CRBI', 'Hits', 'PutOuts', 'Division_W', 'AtBat', 'Walks', 'CWalks']\n",
            "8 ['CRBI', 'Hits', 'PutOuts', 'Division_W', 'AtBat', 'Walks', 'CWalks', 'CRuns']\n",
            "9 ['CRBI', 'Hits', 'PutOuts', 'Division_W', 'AtBat', 'Walks', 'CWalks', 'CRuns', 'CAtBat']\n",
            "10 ['CRBI', 'Hits', 'PutOuts', 'Division_W', 'AtBat', 'Walks', 'CWalks', 'CRuns', 'CAtBat', 'Assists']\n",
            "11 ['CRBI', 'Hits', 'PutOuts', 'Division_W', 'AtBat', 'Walks', 'CWalks', 'CRuns', 'CAtBat', 'Assists', 'League_N']\n",
            "12 ['CRBI', 'Hits', 'PutOuts', 'Division_W', 'AtBat', 'Walks', 'CWalks', 'CRuns', 'CAtBat', 'Assists', 'League_N', 'Runs']\n",
            "13 ['CRBI', 'Hits', 'PutOuts', 'Division_W', 'AtBat', 'Walks', 'CWalks', 'CRuns', 'CAtBat', 'Assists', 'League_N', 'Runs', 'Errors']\n",
            "14 ['CRBI', 'Hits', 'PutOuts', 'Division_W', 'AtBat', 'Walks', 'CWalks', 'CRuns', 'CAtBat', 'Assists', 'League_N', 'Runs', 'Errors', 'HmRun']\n",
            "15 ['CRBI', 'Hits', 'PutOuts', 'Division_W', 'AtBat', 'Walks', 'CWalks', 'CRuns', 'CAtBat', 'Assists', 'League_N', 'Runs', 'Errors', 'HmRun', 'CHits']\n",
            "16 ['CRBI', 'Hits', 'PutOuts', 'Division_W', 'AtBat', 'Walks', 'CWalks', 'CRuns', 'CAtBat', 'Assists', 'League_N', 'Runs', 'Errors', 'HmRun', 'CHits', 'RBI']\n",
            "17 ['CRBI', 'Hits', 'PutOuts', 'Division_W', 'AtBat', 'Walks', 'CWalks', 'CRuns', 'CAtBat', 'Assists', 'League_N', 'Runs', 'Errors', 'HmRun', 'CHits', 'RBI', 'NewLeague_N']\n",
            "18 ['CRBI', 'Hits', 'PutOuts', 'Division_W', 'AtBat', 'Walks', 'CWalks', 'CRuns', 'CAtBat', 'Assists', 'League_N', 'Runs', 'Errors', 'HmRun', 'CHits', 'RBI', 'NewLeague_N', 'Years']\n",
            "19 ['CRBI', 'Hits', 'PutOuts', 'Division_W', 'AtBat', 'Walks', 'CWalks', 'CRuns', 'CAtBat', 'Assists', 'League_N', 'Runs', 'Errors', 'HmRun', 'CHits', 'RBI', 'NewLeague_N', 'Years', 'CHmRun']\n"
          ]
        }
      ],
      "source": [
        "models2 = pd.DataFrame(columns=['RSS', 'model'])\n",
        "\n",
        "predictors = [] # we start with null model M0\n",
        "\n",
        "for i in range(1,len(X.columns)+1):\n",
        "    models2.loc[i] = forward(predictors)\n",
        "    exog = models2.loc[i]['model'].model.exog_names.copy()\n",
        "    exog.remove('Intercept') #smf will automatically adds intercept\n",
        "    predictors = exog\n",
        "    print(i, predictors)"
      ]
    },
    {
      "cell_type": "markdown",
      "metadata": {
        "id": "ggQ_t6u9rhl_"
      },
      "source": [
        "We can then use `AIC` or `BIC` to choose the best model in the second stage"
      ]
    },
    {
      "cell_type": "code",
      "execution_count": null,
      "metadata": {
        "colab": {
          "base_uri": "https://localhost:8080/"
        },
        "id": "FGF4l4nurhl_",
        "outputId": "f29a11ec-b766-40e3-9fc1-c135cb390dba"
      },
      "outputs": [
        {
          "data": {
            "text/plain": [
              "5"
            ]
          },
          "execution_count": 26,
          "metadata": {},
          "output_type": "execute_result"
        }
      ],
      "source": [
        "bic_f = []\n",
        "\n",
        "for m in models2.model:\n",
        "    bic_f.append(m.bic)\n",
        "    \n",
        "np.array(bic_f).argmin()"
      ]
    },
    {
      "cell_type": "code",
      "execution_count": null,
      "metadata": {
        "colab": {
          "base_uri": "https://localhost:8080/"
        },
        "id": "dKcCISD8rhl_",
        "outputId": "1649bf91-3983-473e-e56b-e7f29545ce5d"
      },
      "outputs": [
        {
          "name": "stdout",
          "output_type": "stream",
          "text": [
            "18 ['AtBat', 'Hits', 'HmRun', 'Runs', 'RBI', 'Walks', 'Years', 'CAtBat', 'CHits', 'CRuns', 'CRBI', 'CWalks', 'PutOuts', 'Assists', 'Errors', 'League_N', 'Division_W', 'NewLeague_N']\n",
            "17 ['AtBat', 'Hits', 'HmRun', 'Runs', 'RBI', 'Walks', 'CAtBat', 'CHits', 'CRuns', 'CRBI', 'CWalks', 'PutOuts', 'Assists', 'Errors', 'League_N', 'Division_W', 'NewLeague_N']\n",
            "16 ['AtBat', 'Hits', 'HmRun', 'Runs', 'RBI', 'Walks', 'CAtBat', 'CHits', 'CRuns', 'CRBI', 'CWalks', 'PutOuts', 'Assists', 'Errors', 'League_N', 'Division_W']\n",
            "15 ['AtBat', 'Hits', 'HmRun', 'Runs', 'Walks', 'CAtBat', 'CHits', 'CRuns', 'CRBI', 'CWalks', 'PutOuts', 'Assists', 'Errors', 'League_N', 'Division_W']\n",
            "14 ['AtBat', 'Hits', 'HmRun', 'Runs', 'Walks', 'CAtBat', 'CRuns', 'CRBI', 'CWalks', 'PutOuts', 'Assists', 'Errors', 'League_N', 'Division_W']\n",
            "13 ['AtBat', 'Hits', 'Runs', 'Walks', 'CAtBat', 'CRuns', 'CRBI', 'CWalks', 'PutOuts', 'Assists', 'Errors', 'League_N', 'Division_W']\n",
            "12 ['AtBat', 'Hits', 'Runs', 'Walks', 'CAtBat', 'CRuns', 'CRBI', 'CWalks', 'PutOuts', 'Assists', 'League_N', 'Division_W']\n",
            "11 ['AtBat', 'Hits', 'Walks', 'CAtBat', 'CRuns', 'CRBI', 'CWalks', 'PutOuts', 'Assists', 'League_N', 'Division_W']\n",
            "10 ['AtBat', 'Hits', 'Walks', 'CAtBat', 'CRuns', 'CRBI', 'CWalks', 'PutOuts', 'Assists', 'Division_W']\n",
            "9 ['AtBat', 'Hits', 'Walks', 'CAtBat', 'CRuns', 'CRBI', 'CWalks', 'PutOuts', 'Division_W']\n",
            "8 ['AtBat', 'Hits', 'Walks', 'CRuns', 'CRBI', 'CWalks', 'PutOuts', 'Division_W']\n",
            "7 ['AtBat', 'Hits', 'Walks', 'CRuns', 'CWalks', 'PutOuts', 'Division_W']\n",
            "6 ['AtBat', 'Hits', 'Walks', 'CRuns', 'PutOuts', 'Division_W']\n",
            "5 ['AtBat', 'Hits', 'Walks', 'CRuns', 'PutOuts']\n",
            "4 ['AtBat', 'Hits', 'CRuns', 'PutOuts']\n",
            "3 ['Hits', 'CRuns', 'PutOuts']\n",
            "2 ['Hits', 'CRuns']\n",
            "1 ['CRuns']\n"
          ]
        }
      ],
      "source": [
        "models3 = pd.DataFrame(columns=['RSS', 'model'], index = range(1, len(X.columns)))\n",
        "\n",
        "predictors = X.columns # we start with full model Mp\n",
        "models3.loc[len(predictors)] = processSubset(predictors)\n",
        "\n",
        "while(len(predictors) > 1):  \n",
        "    models3.loc[len(predictors)-1] = backward(predictors)\n",
        "    exog = models3.loc[len(predictors)-1]['model'].model.exog_names.copy()\n",
        "    exog.remove('Intercept')\n",
        "    predictors = exog\n",
        "    print(len(predictors), predictors)"
      ]
    },
    {
      "cell_type": "code",
      "execution_count": null,
      "metadata": {
        "colab": {
          "base_uri": "https://localhost:8080/"
        },
        "id": "8tLLcyexrhl_",
        "outputId": "64cfeac3-1ecb-4d94-bf9f-1621bf7bf509"
      },
      "outputs": [
        {
          "data": {
            "text/plain": [
              "7"
            ]
          },
          "execution_count": 28,
          "metadata": {},
          "output_type": "execute_result"
        }
      ],
      "source": [
        "bic_b = []\n",
        "\n",
        "for m in models3.model:\n",
        "    bic_b.append(m.bic)\n",
        "    \n",
        "np.array(bic_b).argmin()"
      ]
    },
    {
      "cell_type": "markdown",
      "metadata": {
        "id": "P_Mfw16mrhmA"
      },
      "source": [
        "We see that using forward stepwise selection, the best one-variable model contains only `CRBI`, and the best two-variable model additionally includes `Hits`. For this data, the best one-variable through six-variable models are each identical for best subset and forward selection. However, the best seven-variable models identified by forward stepwise selection, backward stepwise selection, and best subset selection are different."
      ]
    },
    {
      "cell_type": "code",
      "execution_count": null,
      "metadata": {
        "colab": {
          "base_uri": "https://localhost:8080/"
        },
        "id": "-fAoAa94rhmA",
        "outputId": "b4c2ae97-a097-4b92-e6ff-2a24921529f7"
      },
      "outputs": [
        {
          "name": "stdout",
          "output_type": "stream",
          "text": [
            "('AtBat', 'Hits', 'Walks', 'CRBI', 'PutOuts', 'Division_W')\n",
            "['CRBI', 'Hits', 'PutOuts', 'Division_W', 'AtBat', 'Walks']\n"
          ]
        }
      ],
      "source": [
        "print(results2['sub'][6]) #best subset\n",
        "print(models2['model'][6].model.exog_names[1:]) # Do not print Intercept"
      ]
    },
    {
      "cell_type": "code",
      "execution_count": null,
      "metadata": {
        "colab": {
          "base_uri": "https://localhost:8080/"
        },
        "id": "_stCpQJBrhmA",
        "outputId": "3fda9402-33bf-4bec-d7d4-52e5ea25d1d7"
      },
      "outputs": [
        {
          "name": "stdout",
          "output_type": "stream",
          "text": [
            "('Hits', 'Walks', 'CAtBat', 'CHits', 'CHmRun', 'PutOuts', 'Division_W')\n",
            "['CRBI', 'Hits', 'PutOuts', 'Division_W', 'AtBat', 'Walks', 'CWalks']\n",
            "['AtBat', 'Hits', 'Walks', 'CRuns', 'CWalks', 'PutOuts', 'Division_W']\n"
          ]
        }
      ],
      "source": [
        "print(results2['sub'][7])\n",
        "print(models2['model'][7].model.exog_names[1:]) # Do not print Intercept\n",
        "print(models3['model'][7].model.exog_names[1:])"
      ]
    },
    {
      "cell_type": "markdown",
      "metadata": {
        "id": "qmOEI4SI9yGd"
      },
      "source": [
        "There are also other feature selection methods available in sklearn https://scikit-learn.org/stable/modules/feature_selection.html and mlxtend http://rasbt.github.io/mlxtend/api_subpackages/mlxtend.feature_selection/"
      ]
    },
    {
      "cell_type": "code",
      "execution_count": null,
      "metadata": {
        "colab": {
          "base_uri": "https://localhost:8080/"
        },
        "id": "Tn4zx-5UTUV1",
        "outputId": "929a769e-dc98-4279-d61c-91e163ac490e"
      },
      "outputs": [
        {
          "data": {
            "text/plain": [
              "SequentialFeatureSelector(estimator=LinearRegression(), k_features=(19, 19),\n",
              "                          scoring='neg_mean_squared_error')"
            ]
          },
          "execution_count": 31,
          "metadata": {},
          "output_type": "execute_result"
        }
      ],
      "source": [
        "lr = LinearRegression()\n",
        "sfs1 = SFS(lr, \n",
        "          k_features=19, \n",
        "          forward=True, \n",
        "          floating=False, \n",
        "          scoring='neg_mean_squared_error',\n",
        "          cv=5)\n",
        "\n",
        "sfs1.fit(X, y)"
      ]
    },
    {
      "cell_type": "code",
      "execution_count": null,
      "metadata": {
        "colab": {
          "base_uri": "https://localhost:8080/",
          "height": 645
        },
        "id": "xmx1KppzVaLF",
        "outputId": "27e96121-efaa-4330-a8c3-fa4767dbc6a1"
      },
      "outputs": [
        {
          "data": {
            "text/html": [
              "\n",
              "  <div id=\"df-1437ee10-c5ff-4b1a-8fc0-aded25620ecb\">\n",
              "    <div class=\"colab-df-container\">\n",
              "      <div>\n",
              "<style scoped>\n",
              "    .dataframe tbody tr th:only-of-type {\n",
              "        vertical-align: middle;\n",
              "    }\n",
              "\n",
              "    .dataframe tbody tr th {\n",
              "        vertical-align: top;\n",
              "    }\n",
              "\n",
              "    .dataframe thead th {\n",
              "        text-align: right;\n",
              "    }\n",
              "</style>\n",
              "<table border=\"1\" class=\"dataframe\">\n",
              "  <thead>\n",
              "    <tr style=\"text-align: right;\">\n",
              "      <th></th>\n",
              "      <th>feature_idx</th>\n",
              "      <th>cv_scores</th>\n",
              "      <th>avg_score</th>\n",
              "      <th>feature_names</th>\n",
              "      <th>ci_bound</th>\n",
              "      <th>std_dev</th>\n",
              "      <th>std_err</th>\n",
              "    </tr>\n",
              "  </thead>\n",
              "  <tbody>\n",
              "    <tr>\n",
              "      <th>1</th>\n",
              "      <td>(11,)</td>\n",
              "      <td>[-69552.92336716877, -213009.92207213468, -118...</td>\n",
              "      <td>-142142.865462</td>\n",
              "      <td>(CRBI,)</td>\n",
              "      <td>74428.969884</td>\n",
              "      <td>57908.267167</td>\n",
              "      <td>28954.133583</td>\n",
              "    </tr>\n",
              "    <tr>\n",
              "      <th>2</th>\n",
              "      <td>(1, 11)</td>\n",
              "      <td>[-53798.49669675372, -163254.80704040316, -104...</td>\n",
              "      <td>-124277.839415</td>\n",
              "      <td>(Hits, CRBI)</td>\n",
              "      <td>67031.533473</td>\n",
              "      <td>52152.810324</td>\n",
              "      <td>26076.405162</td>\n",
              "    </tr>\n",
              "    <tr>\n",
              "      <th>3</th>\n",
              "      <td>(1, 11, 17)</td>\n",
              "      <td>[-62163.905140527975, -153941.83393405456, -97...</td>\n",
              "      <td>-120082.156746</td>\n",
              "      <td>(Hits, CRBI, Division_W)</td>\n",
              "      <td>59591.942149</td>\n",
              "      <td>46364.555526</td>\n",
              "      <td>23182.277763</td>\n",
              "    </tr>\n",
              "    <tr>\n",
              "      <th>4</th>\n",
              "      <td>(1, 11, 13, 17)</td>\n",
              "      <td>[-65576.39003922763, -141278.46897398788, -825...</td>\n",
              "      <td>-117217.983933</td>\n",
              "      <td>(Hits, CRBI, PutOuts, Division_W)</td>\n",
              "      <td>56263.230127</td>\n",
              "      <td>43774.704486</td>\n",
              "      <td>21887.352243</td>\n",
              "    </tr>\n",
              "    <tr>\n",
              "      <th>5</th>\n",
              "      <td>(0, 1, 11, 13, 17)</td>\n",
              "      <td>[-64199.08545469596, -133171.50527159323, -836...</td>\n",
              "      <td>-114112.221253</td>\n",
              "      <td>(AtBat, Hits, CRBI, PutOuts, Division_W)</td>\n",
              "      <td>54818.569767</td>\n",
              "      <td>42650.709646</td>\n",
              "      <td>21325.354823</td>\n",
              "    </tr>\n",
              "    <tr>\n",
              "      <th>6</th>\n",
              "      <td>(0, 1, 5, 11, 13, 17)</td>\n",
              "      <td>[-60075.53412214324, -132306.39833204867, -765...</td>\n",
              "      <td>-110162.261438</td>\n",
              "      <td>(AtBat, Hits, Walks, CRBI, PutOuts, Division_W)</td>\n",
              "      <td>57689.191989</td>\n",
              "      <td>44884.151259</td>\n",
              "      <td>22442.075629</td>\n",
              "    </tr>\n",
              "    <tr>\n",
              "      <th>7</th>\n",
              "      <td>(0, 1, 3, 5, 11, 13, 17)</td>\n",
              "      <td>[-60330.25929006559, -132346.01741313486, -766...</td>\n",
              "      <td>-110553.231464</td>\n",
              "      <td>(AtBat, Hits, Runs, Walks, CRBI, PutOuts, Divi...</td>\n",
              "      <td>58252.099546</td>\n",
              "      <td>45322.112462</td>\n",
              "      <td>22661.056231</td>\n",
              "    </tr>\n",
              "    <tr>\n",
              "      <th>8</th>\n",
              "      <td>(0, 1, 3, 5, 6, 11, 13, 17)</td>\n",
              "      <td>[-64303.54034551623, -130892.95408839498, -745...</td>\n",
              "      <td>-110934.554619</td>\n",
              "      <td>(AtBat, Hits, Runs, Walks, Years, CRBI, PutOut...</td>\n",
              "      <td>57911.784603</td>\n",
              "      <td>45057.335875</td>\n",
              "      <td>22528.667937</td>\n",
              "    </tr>\n",
              "    <tr>\n",
              "      <th>9</th>\n",
              "      <td>(0, 1, 3, 5, 6, 10, 11, 13, 17)</td>\n",
              "      <td>[-63508.043800155414, -137971.21159579078, -75...</td>\n",
              "      <td>-111236.70073</td>\n",
              "      <td>(AtBat, Hits, Runs, Walks, Years, CRuns, CRBI,...</td>\n",
              "      <td>57344.878076</td>\n",
              "      <td>44616.263337</td>\n",
              "      <td>22308.131669</td>\n",
              "    </tr>\n",
              "    <tr>\n",
              "      <th>10</th>\n",
              "      <td>(0, 1, 3, 5, 6, 10, 11, 12, 13, 17)</td>\n",
              "      <td>[-75371.33424690235, -128223.28240695987, -742...</td>\n",
              "      <td>-110021.54195</td>\n",
              "      <td>(AtBat, Hits, Runs, Walks, Years, CRuns, CRBI,...</td>\n",
              "      <td>52372.497258</td>\n",
              "      <td>40747.582133</td>\n",
              "      <td>20373.791066</td>\n",
              "    </tr>\n",
              "    <tr>\n",
              "      <th>11</th>\n",
              "      <td>(0, 1, 3, 5, 6, 10, 11, 12, 13, 16, 17)</td>\n",
              "      <td>[-75554.06873028616, -129427.52046763463, -741...</td>\n",
              "      <td>-110792.912735</td>\n",
              "      <td>(AtBat, Hits, Runs, Walks, Years, CRuns, CRBI,...</td>\n",
              "      <td>52633.998179</td>\n",
              "      <td>40951.038733</td>\n",
              "      <td>20475.519367</td>\n",
              "    </tr>\n",
              "    <tr>\n",
              "      <th>12</th>\n",
              "      <td>(0, 1, 3, 5, 6, 10, 11, 12, 13, 16, 17, 18)</td>\n",
              "      <td>[-75588.46350075006, -130320.07532800487, -754...</td>\n",
              "      <td>-111570.449036</td>\n",
              "      <td>(AtBat, Hits, Runs, Walks, Years, CRuns, CRBI,...</td>\n",
              "      <td>52803.480655</td>\n",
              "      <td>41082.901857</td>\n",
              "      <td>20541.450929</td>\n",
              "    </tr>\n",
              "    <tr>\n",
              "      <th>13</th>\n",
              "      <td>(0, 1, 2, 3, 5, 6, 10, 11, 12, 13, 16, 17, 18)</td>\n",
              "      <td>[-75578.82866274133, -130098.48628552802, -797...</td>\n",
              "      <td>-112677.57758</td>\n",
              "      <td>(AtBat, Hits, HmRun, Runs, Walks, Years, CRuns...</td>\n",
              "      <td>51485.083739</td>\n",
              "      <td>40057.144267</td>\n",
              "      <td>20028.572133</td>\n",
              "    </tr>\n",
              "    <tr>\n",
              "      <th>14</th>\n",
              "      <td>(0, 1, 2, 3, 4, 5, 6, 10, 11, 12, 13, 16, 17, 18)</td>\n",
              "      <td>[-75574.5961843588, -132822.10224589257, -8117...</td>\n",
              "      <td>-113601.744452</td>\n",
              "      <td>(AtBat, Hits, HmRun, Runs, RBI, Walks, Years, ...</td>\n",
              "      <td>51592.950752</td>\n",
              "      <td>40141.068467</td>\n",
              "      <td>20070.534233</td>\n",
              "    </tr>\n",
              "    <tr>\n",
              "      <th>15</th>\n",
              "      <td>(0, 1, 2, 3, 4, 5, 6, 10, 11, 12, 13, 15, 16, ...</td>\n",
              "      <td>[-75795.22141743562, -132827.4310618751, -8116...</td>\n",
              "      <td>-115593.410667</td>\n",
              "      <td>(AtBat, Hits, HmRun, Runs, RBI, Walks, Years, ...</td>\n",
              "      <td>53008.106168</td>\n",
              "      <td>41242.107459</td>\n",
              "      <td>20621.053729</td>\n",
              "    </tr>\n",
              "    <tr>\n",
              "      <th>16</th>\n",
              "      <td>(0, 1, 2, 3, 4, 5, 6, 10, 11, 12, 13, 14, 15, ...</td>\n",
              "      <td>[-77460.55999200376, -130968.8896155133, -8015...</td>\n",
              "      <td>-116290.756812</td>\n",
              "      <td>(AtBat, Hits, HmRun, Runs, RBI, Walks, Years, ...</td>\n",
              "      <td>51687.395454</td>\n",
              "      <td>40214.549654</td>\n",
              "      <td>20107.274827</td>\n",
              "    </tr>\n",
              "    <tr>\n",
              "      <th>17</th>\n",
              "      <td>(0, 1, 2, 3, 4, 5, 6, 7, 10, 11, 12, 13, 14, 1...</td>\n",
              "      <td>[-74741.82159316978, -128751.90512264056, -799...</td>\n",
              "      <td>-118642.76362</td>\n",
              "      <td>(AtBat, Hits, HmRun, Runs, RBI, Walks, Years, ...</td>\n",
              "      <td>56165.48438</td>\n",
              "      <td>43698.654974</td>\n",
              "      <td>21849.327487</td>\n",
              "    </tr>\n",
              "    <tr>\n",
              "      <th>18</th>\n",
              "      <td>(0, 1, 2, 3, 4, 5, 6, 7, 9, 10, 11, 12, 13, 14...</td>\n",
              "      <td>[-75598.10118706549, -128381.8825323173, -7998...</td>\n",
              "      <td>-118980.278688</td>\n",
              "      <td>(AtBat, Hits, HmRun, Runs, RBI, Walks, Years, ...</td>\n",
              "      <td>56546.558941</td>\n",
              "      <td>43995.143928</td>\n",
              "      <td>21997.571964</td>\n",
              "    </tr>\n",
              "    <tr>\n",
              "      <th>19</th>\n",
              "      <td>(0, 1, 2, 3, 4, 5, 6, 7, 8, 9, 10, 11, 12, 13,...</td>\n",
              "      <td>[-76408.91409133923, -129937.76968228162, -799...</td>\n",
              "      <td>-121136.310318</td>\n",
              "      <td>(AtBat, Hits, HmRun, Runs, RBI, Walks, Years, ...</td>\n",
              "      <td>59785.432226</td>\n",
              "      <td>46515.09738</td>\n",
              "      <td>23257.54869</td>\n",
              "    </tr>\n",
              "  </tbody>\n",
              "</table>\n",
              "</div>\n",
              "      <button class=\"colab-df-convert\" onclick=\"convertToInteractive('df-1437ee10-c5ff-4b1a-8fc0-aded25620ecb')\"\n",
              "              title=\"Convert this dataframe to an interactive table.\"\n",
              "              style=\"display:none;\">\n",
              "        \n",
              "  <svg xmlns=\"http://www.w3.org/2000/svg\" height=\"24px\"viewBox=\"0 0 24 24\"\n",
              "       width=\"24px\">\n",
              "    <path d=\"M0 0h24v24H0V0z\" fill=\"none\"/>\n",
              "    <path d=\"M18.56 5.44l.94 2.06.94-2.06 2.06-.94-2.06-.94-.94-2.06-.94 2.06-2.06.94zm-11 1L8.5 8.5l.94-2.06 2.06-.94-2.06-.94L8.5 2.5l-.94 2.06-2.06.94zm10 10l.94 2.06.94-2.06 2.06-.94-2.06-.94-.94-2.06-.94 2.06-2.06.94z\"/><path d=\"M17.41 7.96l-1.37-1.37c-.4-.4-.92-.59-1.43-.59-.52 0-1.04.2-1.43.59L10.3 9.45l-7.72 7.72c-.78.78-.78 2.05 0 2.83L4 21.41c.39.39.9.59 1.41.59.51 0 1.02-.2 1.41-.59l7.78-7.78 2.81-2.81c.8-.78.8-2.07 0-2.86zM5.41 20L4 18.59l7.72-7.72 1.47 1.35L5.41 20z\"/>\n",
              "  </svg>\n",
              "      </button>\n",
              "      \n",
              "  <style>\n",
              "    .colab-df-container {\n",
              "      display:flex;\n",
              "      flex-wrap:wrap;\n",
              "      gap: 12px;\n",
              "    }\n",
              "\n",
              "    .colab-df-convert {\n",
              "      background-color: #E8F0FE;\n",
              "      border: none;\n",
              "      border-radius: 50%;\n",
              "      cursor: pointer;\n",
              "      display: none;\n",
              "      fill: #1967D2;\n",
              "      height: 32px;\n",
              "      padding: 0 0 0 0;\n",
              "      width: 32px;\n",
              "    }\n",
              "\n",
              "    .colab-df-convert:hover {\n",
              "      background-color: #E2EBFA;\n",
              "      box-shadow: 0px 1px 2px rgba(60, 64, 67, 0.3), 0px 1px 3px 1px rgba(60, 64, 67, 0.15);\n",
              "      fill: #174EA6;\n",
              "    }\n",
              "\n",
              "    [theme=dark] .colab-df-convert {\n",
              "      background-color: #3B4455;\n",
              "      fill: #D2E3FC;\n",
              "    }\n",
              "\n",
              "    [theme=dark] .colab-df-convert:hover {\n",
              "      background-color: #434B5C;\n",
              "      box-shadow: 0px 1px 3px 1px rgba(0, 0, 0, 0.15);\n",
              "      filter: drop-shadow(0px 1px 2px rgba(0, 0, 0, 0.3));\n",
              "      fill: #FFFFFF;\n",
              "    }\n",
              "  </style>\n",
              "\n",
              "      <script>\n",
              "        const buttonEl =\n",
              "          document.querySelector('#df-1437ee10-c5ff-4b1a-8fc0-aded25620ecb button.colab-df-convert');\n",
              "        buttonEl.style.display =\n",
              "          google.colab.kernel.accessAllowed ? 'block' : 'none';\n",
              "\n",
              "        async function convertToInteractive(key) {\n",
              "          const element = document.querySelector('#df-1437ee10-c5ff-4b1a-8fc0-aded25620ecb');\n",
              "          const dataTable =\n",
              "            await google.colab.kernel.invokeFunction('convertToInteractive',\n",
              "                                                     [key], {});\n",
              "          if (!dataTable) return;\n",
              "\n",
              "          const docLinkHtml = 'Like what you see? Visit the ' +\n",
              "            '<a target=\"_blank\" href=https://colab.research.google.com/notebooks/data_table.ipynb>data table notebook</a>'\n",
              "            + ' to learn more about interactive tables.';\n",
              "          element.innerHTML = '';\n",
              "          dataTable['output_type'] = 'display_data';\n",
              "          await google.colab.output.renderOutput(dataTable, element);\n",
              "          const docLink = document.createElement('div');\n",
              "          docLink.innerHTML = docLinkHtml;\n",
              "          element.appendChild(docLink);\n",
              "        }\n",
              "      </script>\n",
              "    </div>\n",
              "  </div>\n",
              "  "
            ],
            "text/plain": [
              "                                          feature_idx  \\\n",
              "1                                               (11,)   \n",
              "2                                             (1, 11)   \n",
              "3                                         (1, 11, 17)   \n",
              "4                                     (1, 11, 13, 17)   \n",
              "5                                  (0, 1, 11, 13, 17)   \n",
              "6                               (0, 1, 5, 11, 13, 17)   \n",
              "7                            (0, 1, 3, 5, 11, 13, 17)   \n",
              "8                         (0, 1, 3, 5, 6, 11, 13, 17)   \n",
              "9                     (0, 1, 3, 5, 6, 10, 11, 13, 17)   \n",
              "10                (0, 1, 3, 5, 6, 10, 11, 12, 13, 17)   \n",
              "11            (0, 1, 3, 5, 6, 10, 11, 12, 13, 16, 17)   \n",
              "12        (0, 1, 3, 5, 6, 10, 11, 12, 13, 16, 17, 18)   \n",
              "13     (0, 1, 2, 3, 5, 6, 10, 11, 12, 13, 16, 17, 18)   \n",
              "14  (0, 1, 2, 3, 4, 5, 6, 10, 11, 12, 13, 16, 17, 18)   \n",
              "15  (0, 1, 2, 3, 4, 5, 6, 10, 11, 12, 13, 15, 16, ...   \n",
              "16  (0, 1, 2, 3, 4, 5, 6, 10, 11, 12, 13, 14, 15, ...   \n",
              "17  (0, 1, 2, 3, 4, 5, 6, 7, 10, 11, 12, 13, 14, 1...   \n",
              "18  (0, 1, 2, 3, 4, 5, 6, 7, 9, 10, 11, 12, 13, 14...   \n",
              "19  (0, 1, 2, 3, 4, 5, 6, 7, 8, 9, 10, 11, 12, 13,...   \n",
              "\n",
              "                                            cv_scores      avg_score  \\\n",
              "1   [-69552.92336716877, -213009.92207213468, -118... -142142.865462   \n",
              "2   [-53798.49669675372, -163254.80704040316, -104... -124277.839415   \n",
              "3   [-62163.905140527975, -153941.83393405456, -97... -120082.156746   \n",
              "4   [-65576.39003922763, -141278.46897398788, -825... -117217.983933   \n",
              "5   [-64199.08545469596, -133171.50527159323, -836... -114112.221253   \n",
              "6   [-60075.53412214324, -132306.39833204867, -765... -110162.261438   \n",
              "7   [-60330.25929006559, -132346.01741313486, -766... -110553.231464   \n",
              "8   [-64303.54034551623, -130892.95408839498, -745... -110934.554619   \n",
              "9   [-63508.043800155414, -137971.21159579078, -75...  -111236.70073   \n",
              "10  [-75371.33424690235, -128223.28240695987, -742...  -110021.54195   \n",
              "11  [-75554.06873028616, -129427.52046763463, -741... -110792.912735   \n",
              "12  [-75588.46350075006, -130320.07532800487, -754... -111570.449036   \n",
              "13  [-75578.82866274133, -130098.48628552802, -797...  -112677.57758   \n",
              "14  [-75574.5961843588, -132822.10224589257, -8117... -113601.744452   \n",
              "15  [-75795.22141743562, -132827.4310618751, -8116... -115593.410667   \n",
              "16  [-77460.55999200376, -130968.8896155133, -8015... -116290.756812   \n",
              "17  [-74741.82159316978, -128751.90512264056, -799...  -118642.76362   \n",
              "18  [-75598.10118706549, -128381.8825323173, -7998... -118980.278688   \n",
              "19  [-76408.91409133923, -129937.76968228162, -799... -121136.310318   \n",
              "\n",
              "                                        feature_names      ci_bound  \\\n",
              "1                                             (CRBI,)  74428.969884   \n",
              "2                                        (Hits, CRBI)  67031.533473   \n",
              "3                            (Hits, CRBI, Division_W)  59591.942149   \n",
              "4                   (Hits, CRBI, PutOuts, Division_W)  56263.230127   \n",
              "5            (AtBat, Hits, CRBI, PutOuts, Division_W)  54818.569767   \n",
              "6     (AtBat, Hits, Walks, CRBI, PutOuts, Division_W)  57689.191989   \n",
              "7   (AtBat, Hits, Runs, Walks, CRBI, PutOuts, Divi...  58252.099546   \n",
              "8   (AtBat, Hits, Runs, Walks, Years, CRBI, PutOut...  57911.784603   \n",
              "9   (AtBat, Hits, Runs, Walks, Years, CRuns, CRBI,...  57344.878076   \n",
              "10  (AtBat, Hits, Runs, Walks, Years, CRuns, CRBI,...  52372.497258   \n",
              "11  (AtBat, Hits, Runs, Walks, Years, CRuns, CRBI,...  52633.998179   \n",
              "12  (AtBat, Hits, Runs, Walks, Years, CRuns, CRBI,...  52803.480655   \n",
              "13  (AtBat, Hits, HmRun, Runs, Walks, Years, CRuns...  51485.083739   \n",
              "14  (AtBat, Hits, HmRun, Runs, RBI, Walks, Years, ...  51592.950752   \n",
              "15  (AtBat, Hits, HmRun, Runs, RBI, Walks, Years, ...  53008.106168   \n",
              "16  (AtBat, Hits, HmRun, Runs, RBI, Walks, Years, ...  51687.395454   \n",
              "17  (AtBat, Hits, HmRun, Runs, RBI, Walks, Years, ...   56165.48438   \n",
              "18  (AtBat, Hits, HmRun, Runs, RBI, Walks, Years, ...  56546.558941   \n",
              "19  (AtBat, Hits, HmRun, Runs, RBI, Walks, Years, ...  59785.432226   \n",
              "\n",
              "         std_dev       std_err  \n",
              "1   57908.267167  28954.133583  \n",
              "2   52152.810324  26076.405162  \n",
              "3   46364.555526  23182.277763  \n",
              "4   43774.704486  21887.352243  \n",
              "5   42650.709646  21325.354823  \n",
              "6   44884.151259  22442.075629  \n",
              "7   45322.112462  22661.056231  \n",
              "8   45057.335875  22528.667937  \n",
              "9   44616.263337  22308.131669  \n",
              "10  40747.582133  20373.791066  \n",
              "11  40951.038733  20475.519367  \n",
              "12  41082.901857  20541.450929  \n",
              "13  40057.144267  20028.572133  \n",
              "14  40141.068467  20070.534233  \n",
              "15  41242.107459  20621.053729  \n",
              "16  40214.549654  20107.274827  \n",
              "17  43698.654974  21849.327487  \n",
              "18  43995.143928  21997.571964  \n",
              "19   46515.09738   23257.54869  "
            ]
          },
          "execution_count": 32,
          "metadata": {},
          "output_type": "execute_result"
        }
      ],
      "source": [
        "pd.DataFrame.from_dict(sfs1.get_metric_dict()).T"
      ]
    },
    {
      "cell_type": "markdown",
      "metadata": {
        "id": "FD2FHhnorhmA"
      },
      "source": [
        "### Choosing Among Models Using the Validation-Set Approach and Cross-Validation"
      ]
    },
    {
      "cell_type": "markdown",
      "metadata": {
        "id": "VKLeIvUSrhmA"
      },
      "source": [
        "We just saw that it is possible to choose among a set of models of different sizes using AIC, BIC, and adjusted $R^2$ in the second stage. We will now consider how to do this using the validation set and cross-validation approaches.\n",
        "\n",
        "In order for these approaches to yield accurate estimates of the test error, we must use *only the training observations* to perform all aspects of model-fitting---including variable selection.  Therefore, the determination of which model of a given size is best must be made using *only the training observations*. This point is subtle but important. If the full data set is used to perform the best subset selection step, the validation set errors and cross-validation errors that we obtain will not be accurate estimates of the test error.\n",
        "\n",
        "In order to use the validation set approach, we begin by splitting the observations into a training set and a test set. We also set a random seed so that the user will obtain the same training set/test set split."
      ]
    },
    {
      "cell_type": "code",
      "execution_count": 89,
      "metadata": {
        "id": "w57RovJXrhmA"
      },
      "outputs": [],
      "source": [
        "X_train, X_test, y_train, y_test = train_test_split(X, y, test_size=0.5, random_state=1)"
      ]
    },
    {
      "cell_type": "code",
      "execution_count": null,
      "metadata": {
        "id": "O30Gn4AwrhmA"
      },
      "outputs": [],
      "source": [
        "def processSubset(X_label, X_train, y_train, X_test, y_test):\n",
        "    # Fit model on feature_set and calculate RSS\n",
        "    X_smf = ' + '.join(X_label)\n",
        "    f     = 'Salary ~ {}'.format(X_smf)\n",
        "    # Fit model\n",
        "    lin_reg = smf.ols(formula=f, data=pd.concat([X_train, y_train], axis=1)).fit()\n",
        "    RSS = ((lin_reg.predict(X_test[list(X_label)]) - y_test) ** 2).sum() #on test set\n",
        "    return {'model': lin_reg, 'RSS': RSS}"
      ]
    },
    {
      "cell_type": "code",
      "execution_count": null,
      "metadata": {
        "id": "R7tsrYrirhmA"
      },
      "outputs": [],
      "source": [
        "def forward(predictors, X_train, y_train, X_test, y_test):\n",
        "\n",
        "    # Pull out predictors we still need to process\n",
        "    remaining_predictors = [p for p in X_train.columns if p not in predictors]\n",
        "    \n",
        "    results = []\n",
        "    \n",
        "    for p in remaining_predictors:\n",
        "        results.append(processSubset(predictors+[p], X_train, y_train, X_test, y_test))\n",
        "    \n",
        "    # Wrap everything up in a nice dataframe\n",
        "    models = pd.DataFrame(results)\n",
        "    \n",
        "    # Choose the model with the highest RSS\n",
        "    best_model = models.loc[models['RSS'].argmin()]\n",
        "    \n",
        "    # Return the best model, along with some other useful information about the model\n",
        "    return best_model"
      ]
    },
    {
      "cell_type": "code",
      "execution_count": null,
      "metadata": {
        "colab": {
          "base_uri": "https://localhost:8080/"
        },
        "id": "MpPeEkjRrhmB",
        "outputId": "56a29393-8042-4c5d-bbbb-62ed5afeb439"
      },
      "outputs": [
        {
          "name": "stdout",
          "output_type": "stream",
          "text": [
            "1 ['CRuns']\n",
            "2 ['CRuns', 'Hits']\n",
            "3 ['CRuns', 'Hits', 'Walks']\n",
            "4 ['CRuns', 'Hits', 'Walks', 'CWalks']\n",
            "5 ['CRuns', 'Hits', 'Walks', 'CWalks', 'AtBat']\n",
            "6 ['CRuns', 'Hits', 'Walks', 'CWalks', 'AtBat', 'CHmRun']\n",
            "7 ['CRuns', 'Hits', 'Walks', 'CWalks', 'AtBat', 'CHmRun', 'Years']\n",
            "8 ['CRuns', 'Hits', 'Walks', 'CWalks', 'AtBat', 'CHmRun', 'Years', 'CAtBat']\n",
            "9 ['CRuns', 'Hits', 'Walks', 'CWalks', 'AtBat', 'CHmRun', 'Years', 'CAtBat', 'Assists']\n",
            "10 ['CRuns', 'Hits', 'Walks', 'CWalks', 'AtBat', 'CHmRun', 'Years', 'CAtBat', 'Assists', 'HmRun']\n",
            "11 ['CRuns', 'Hits', 'Walks', 'CWalks', 'AtBat', 'CHmRun', 'Years', 'CAtBat', 'Assists', 'HmRun', 'Runs']\n",
            "12 ['CRuns', 'Hits', 'Walks', 'CWalks', 'AtBat', 'CHmRun', 'Years', 'CAtBat', 'Assists', 'HmRun', 'Runs', 'League_N']\n",
            "13 ['CRuns', 'Hits', 'Walks', 'CWalks', 'AtBat', 'CHmRun', 'Years', 'CAtBat', 'Assists', 'HmRun', 'Runs', 'League_N', 'NewLeague_N']\n",
            "14 ['CRuns', 'Hits', 'Walks', 'CWalks', 'AtBat', 'CHmRun', 'Years', 'CAtBat', 'Assists', 'HmRun', 'Runs', 'League_N', 'NewLeague_N', 'Errors']\n",
            "15 ['CRuns', 'Hits', 'Walks', 'CWalks', 'AtBat', 'CHmRun', 'Years', 'CAtBat', 'Assists', 'HmRun', 'Runs', 'League_N', 'NewLeague_N', 'Errors', 'Division_W']\n",
            "16 ['CRuns', 'Hits', 'Walks', 'CWalks', 'AtBat', 'CHmRun', 'Years', 'CAtBat', 'Assists', 'HmRun', 'Runs', 'League_N', 'NewLeague_N', 'Errors', 'Division_W', 'CRBI']\n",
            "17 ['CRuns', 'Hits', 'Walks', 'CWalks', 'AtBat', 'CHmRun', 'Years', 'CAtBat', 'Assists', 'HmRun', 'Runs', 'League_N', 'NewLeague_N', 'Errors', 'Division_W', 'CRBI', 'RBI']\n",
            "18 ['CRuns', 'Hits', 'Walks', 'CWalks', 'AtBat', 'CHmRun', 'Years', 'CAtBat', 'Assists', 'HmRun', 'Runs', 'League_N', 'NewLeague_N', 'Errors', 'Division_W', 'CRBI', 'RBI', 'PutOuts']\n",
            "19 ['CRuns', 'Hits', 'Walks', 'CWalks', 'AtBat', 'CHmRun', 'Years', 'CAtBat', 'Assists', 'HmRun', 'Runs', 'League_N', 'NewLeague_N', 'Errors', 'Division_W', 'CRBI', 'RBI', 'PutOuts', 'CHits']\n"
          ]
        }
      ],
      "source": [
        "models_test = pd.DataFrame(columns=['RSS', 'model'])\n",
        "\n",
        "predictors = []\n",
        "\n",
        "for i in range(1,len(X.columns)+1):\n",
        "    models_test.loc[i] = forward(predictors, X_train, y_train, X_test, y_test)\n",
        "    exog = models_test.loc[i]['model'].model.exog_names.copy()\n",
        "    exog.remove('Intercept')\n",
        "    predictors = exog\n",
        "    print(i, predictors)"
      ]
    },
    {
      "cell_type": "code",
      "execution_count": null,
      "metadata": {
        "colab": {
          "base_uri": "https://localhost:8080/",
          "height": 326
        },
        "id": "wxwx0GG2rhmB",
        "outputId": "e3d80c31-429e-406e-fe48-ccbe7cf168dd"
      },
      "outputs": [
        {
          "data": {
            "text/plain": [
              "[<matplotlib.lines.Line2D at 0x7f81088dec10>]"
            ]
          },
          "execution_count": 37,
          "metadata": {},
          "output_type": "execute_result"
        },
        {
          "data": {
            "image/png": "[encoded data removed]",
            "text/plain": [
              "<Figure size 432x288 with 1 Axes>"
            ]
          },
          "metadata": {},
          "output_type": "display_data"
        }
      ],
      "source": [
        "sns.lineplot(x=range(1,20), y=models_test['RSS'])\n",
        "plt.xlabel('# Predictors')\n",
        "plt.ylabel('RSS')\n",
        "plt.plot(models_test['RSS'].argmin()+1, models_test['RSS'].min(), 'or')"
      ]
    },
    {
      "cell_type": "markdown",
      "metadata": {
        "id": "eeAJQcPYrhmB"
      },
      "source": [
        "Now that we know what we're looking for, let's perform forward selection on the full dataset and select the best 7-predictor model. It is important that we make use of the *full data set* in order to obtain more accurate coefficient estimates. **Note that we perform forward selection on the full data set and select the best 7-predictor model, rather than simply using the predictors that we obtained from the training set, because the best 7-predictor model on the full data set may differ from the corresponding model on the training set.**"
      ]
    },
    {
      "cell_type": "code",
      "execution_count": null,
      "metadata": {
        "colab": {
          "base_uri": "https://localhost:8080/"
        },
        "id": "ouc_aSELrhmB",
        "outputId": "3096641d-abe4-4256-ca1d-282bf7ba77f7"
      },
      "outputs": [
        {
          "name": "stdout",
          "output_type": "stream",
          "text": [
            "1 ['CRBI']\n",
            "2 ['CRBI', 'Hits']\n",
            "3 ['CRBI', 'Hits', 'PutOuts']\n",
            "4 ['CRBI', 'Hits', 'PutOuts', 'Division_W']\n",
            "5 ['CRBI', 'Hits', 'PutOuts', 'Division_W', 'AtBat']\n",
            "6 ['CRBI', 'Hits', 'PutOuts', 'Division_W', 'AtBat', 'Walks']\n",
            "7 ['CRBI', 'Hits', 'PutOuts', 'Division_W', 'AtBat', 'Walks', 'CWalks']\n"
          ]
        }
      ],
      "source": [
        "models_full = pd.DataFrame(columns=['RSS', 'model'])\n",
        "\n",
        "predictors = []\n",
        "   \n",
        "for i in range(1,8):\n",
        "    models_full.loc[i] = forward(predictors, X, y, X, y) #use full dataset\n",
        "    exog = models_full.loc[i]['model'].model.exog_names.copy()\n",
        "    exog.remove('Intercept')\n",
        "    predictors = exog\n",
        "    print(i, predictors)"
      ]
    },
    {
      "cell_type": "code",
      "execution_count": null,
      "metadata": {
        "colab": {
          "base_uri": "https://localhost:8080/"
        },
        "id": "SDsZBhEfrhmB",
        "outputId": "30f4583f-e9b1-4aaf-ff4b-c1cb15237e05"
      },
      "outputs": [
        {
          "name": "stdout",
          "output_type": "stream",
          "text": [
            "['Intercept', 'CRuns', 'Hits', 'Walks', 'CWalks', 'AtBat', 'CHmRun', 'Years']\n",
            "['Intercept', 'CRBI', 'Hits', 'PutOuts', 'Division_W', 'AtBat', 'Walks', 'CWalks']\n"
          ]
        }
      ],
      "source": [
        "print(models_test.loc[7, 'model'].model.exog_names)\n",
        "print(models_full.loc[7, 'model'].model.exog_names) # we will use this one as our final model!"
      ]
    },
    {
      "cell_type": "markdown",
      "metadata": {
        "id": "rhuD3I5drhmB"
      },
      "source": [
        "### Model selection using Cross-Validation\n",
        "\n",
        "Now let's try to choose among the models of different sizes using cross-validation. This approach is somewhat involved, as we must perform forward selection within each of the $k$ training sets. Despite this, we see that with its clever subsetting syntax, `python` makes this job quite easy. First, we create a vector that assigns each observation to one of $k = 10$ folds, and we create a DataFrame in which we will store the results:"
      ]
    },
    {
      "cell_type": "code",
      "execution_count": null,
      "metadata": {
        "id": "u774dFSLrhmC"
      },
      "outputs": [],
      "source": [
        "k = 10\n",
        "kf = KFold(n_splits=k, shuffle=True, random_state=2)"
      ]
    },
    {
      "cell_type": "code",
      "execution_count": null,
      "metadata": {
        "id": "8AYvQL7arhmC"
      },
      "outputs": [],
      "source": [
        "# Create a DataFrame to store the results of our upcoming calculations\n",
        "cv_errors = pd.DataFrame(columns=range(1,k+1), index=range(1,20))\n",
        "cv_errors = cv_errors.fillna(0)"
      ]
    },
    {
      "cell_type": "code",
      "execution_count": null,
      "metadata": {
        "id": "eo74HraerhmC"
      },
      "outputs": [],
      "source": [
        "models_cv = pd.DataFrame(columns=[\"RSS\", \"model\"])\n",
        "\n",
        "j = 0\n",
        "# Outer loop iterates over all folds\n",
        "for train_index, test_index in kf.split(X):\n",
        "    j = j+1\n",
        "    # Reset predictors\n",
        "    predictors = []\n",
        "    \n",
        "    X_train2, X_test2 = X.iloc[train_index], X.iloc[test_index]\n",
        "    y_train2, y_test2 = y.iloc[train_index], y.iloc[test_index]\n",
        "    \n",
        "    # Inner loop iterates over each size i\n",
        "    for i in range(1,len(X.columns)+1):    \n",
        "    \n",
        "        # The perform forward selection on the full dataset minus the jth fold, test on jth fold\n",
        "        models_cv.loc[i] = forward(predictors, X_train2, y_train2, X_test2, y_test2)\n",
        "        \n",
        "        # Save the cross-validated error for this fold\n",
        "        cv_errors[j][i] = models_cv.loc[i][\"RSS\"]\n",
        "\n",
        "        exog = models_cv.loc[i]['model'].model.exog_names.copy()\n",
        "        exog.remove('Intercept')\n",
        "        predictors = exog"
      ]
    },
    {
      "cell_type": "code",
      "execution_count": null,
      "metadata": {
        "colab": {
          "base_uri": "https://localhost:8080/",
          "height": 326
        },
        "id": "1qfYGQHtrhmC",
        "outputId": "4ab8cc19-5c1d-432e-fa08-46e79d67c661"
      },
      "outputs": [
        {
          "data": {
            "text/plain": [
              "[<matplotlib.lines.Line2D at 0x7f8106efb8d0>]"
            ]
          },
          "execution_count": 43,
          "metadata": {},
          "output_type": "execute_result"
        },
        {
          "data": {
            "image/png": "[encoded data removed]",
            "text/plain": [
              "<Figure size 432x288 with 1 Axes>"
            ]
          },
          "metadata": {},
          "output_type": "display_data"
        }
      ],
      "source": [
        "cv_mean = cv_errors.apply(np.mean, axis=1)\n",
        "\n",
        "sns.lineplot(x=range(1,20), y=cv_mean)\n",
        "plt.xlabel('# Predictors')\n",
        "plt.ylabel('CV Error')\n",
        "plt.plot(cv_mean.argmin()+1, cv_mean.min(), \"or\")"
      ]
    },
    {
      "cell_type": "markdown",
      "metadata": {
        "id": "jrKrjWKMrhmC"
      },
      "source": [
        "Cross-validation suggest 8-predictor model is the best model. We now perform best subset selection on the full data set in order to obtain the 8-variable model."
      ]
    },
    {
      "cell_type": "code",
      "execution_count": null,
      "metadata": {
        "colab": {
          "base_uri": "https://localhost:8080/"
        },
        "id": "eqGpPhb2AGtY",
        "outputId": "a67b2b8b-ba17-4b4c-8519-53fb7d589266"
      },
      "outputs": [
        {
          "name": "stdout",
          "output_type": "stream",
          "text": [
            "1 ['CRBI']\n",
            "2 ['CRBI', 'Hits']\n",
            "3 ['CRBI', 'Hits', 'PutOuts']\n",
            "4 ['CRBI', 'Hits', 'PutOuts', 'Division_W']\n",
            "5 ['CRBI', 'Hits', 'PutOuts', 'Division_W', 'AtBat']\n",
            "6 ['CRBI', 'Hits', 'PutOuts', 'Division_W', 'AtBat', 'Walks']\n",
            "7 ['CRBI', 'Hits', 'PutOuts', 'Division_W', 'AtBat', 'Walks', 'CWalks']\n",
            "8 ['CRBI', 'Hits', 'PutOuts', 'Division_W', 'AtBat', 'Walks', 'CWalks', 'CRuns']\n"
          ]
        }
      ],
      "source": [
        "models_full = pd.DataFrame(columns=['RSS', 'model'])\n",
        "\n",
        "predictors = []\n",
        "   \n",
        "for i in range(1,9):\n",
        "    models_full.loc[i] = forward(predictors, X, y, X, y) #use full dataset\n",
        "    exog = models_full.loc[i]['model'].model.exog_names.copy()\n",
        "    exog.remove('Intercept')\n",
        "    predictors = exog\n",
        "    print(i, predictors)"
      ]
    },
    {
      "attachments": {},
      "cell_type": "markdown",
      "metadata": {
        "id": "bPznanxgrhmC"
      },
      "source": [
        "There are also other supports from [http://rasbt.github.io/mlxtend/user_guide/feature_selection/SequentialFeatureSelector/](http://rasbt.github.io/mlxtend/user_guide/feature_selection/SequentialFeatureSelector/) and [https://scikit-learn.org/stable/modules/feature_selection.html#feature-selection](https://scikit-learn.org/stable/modules/feature_selection.html#feature-selection) which implement different selection strategies."
      ]
    },
    {
      "attachments": {},
      "cell_type": "markdown",
      "metadata": {
        "id": "ET-XCyp2rhmC"
      },
      "source": [
        "## Ridge Regression and the Lasso\n",
        "\n",
        "The __glmnet__ algorithms in R optimize the objective function using cyclical coordinate descent, while `scikit-learn` Ridge regression uses linear least squares with L2 regularization. They are rather different implementations, but the general principles are the same.\n",
        "\n",
        "The __glmnet() function in R__ optimizes:\n",
        "### $$ \\frac{1}{N}|| X\\beta-y||^2_2+\\lambda\\bigg(\\frac{1}{2}(1−\\alpha)||\\beta||^2_2 \\ +\\ \\alpha||\\beta||_1\\bigg) $$\n",
        "(See R documentation and [https://cran.r-project.org/web/packages/glmnet/vignettes/glmnet_beta.pdf](https://cran.r-project.org/web/packages/glmnet/vignettes/glmnet_beta.pdf))<BR>\n",
        "The function supports L1 and L2 regularization. For just Ridge regression we need to use $\\alpha = 0 $. This reduces the above cost function to\n",
        "### $$ \\frac{1}{N}|| X\\beta-y||^2_2+\\frac{1}{2}\\lambda ||\\beta||^2_2 $$\n",
        "\n",
        "In `python`, you can also find similar functions in [https://github.com/civisanalytics/python-glmnet](https://github.com/civisanalytics/python-glmnet)    \n",
        "    \n",
        "The __sklearn Ridge()__ function on the other hand optimizes:\n",
        "### $$ ||X\\beta - y||^2_2 + \\alpha ||\\beta||^2_2 $$\n",
        "which is equivalent to optimizing\n",
        "### $$ \\frac{1}{N}||X\\beta - y||^2_2 + \\frac{\\alpha}{N} ||\\beta||^2_2 $$\n"
      ]
    },
    {
      "cell_type": "markdown",
      "metadata": {
        "id": "aOQSD9bHrhmD"
      },
      "source": [
        "By default the `Ridge()` function performs ridge regression for an automatically selected range of $\\alpha$ (or $\\lambda$ in the textbook) values. However, here we have chosen to implement the function over a grid of values ranging from $\\alpha=10^{10}$ to $\\alpha=10^{-2}$, essentially covering the full range of scenarios from the null model containing only the intercept, to the least squares fit. The following we plot 19 coefficients (excluding intercept) for 100 different alphas"
      ]
    },
    {
      "cell_type": "code",
      "execution_count": null,
      "metadata": {
        "colab": {
          "base_uri": "https://localhost:8080/",
          "height": 335
        },
        "id": "VyyJk2EerhmD",
        "outputId": "159c0023-cf23-4dac-cb6b-63294befc481"
      },
      "outputs": [
        {
          "data": {
            "text/plain": [
              "Text(0.5, 1.0, 'Ridge coefficients as a function of the regularization')"
            ]
          },
          "execution_count": 45,
          "metadata": {},
          "output_type": "execute_result"
        },
        {
          "data": {
            "image/png": "[encoded data removed]",
            "text/plain": [
              "<Figure size 432x288 with 1 Axes>"
            ]
          },
          "metadata": {},
          "output_type": "display_data"
        }
      ],
      "source": [
        "alphas = 10**np.linspace(10,-2,100)\n",
        "\n",
        "ridge = Ridge()\n",
        "coefs = []\n",
        "\n",
        "for a in alphas:\n",
        "    ridge.set_params(alpha=a)\n",
        "    ridge.fit(scale(X), y) # We standardize features before ridge regression\n",
        "    coefs.append(ridge.coef_)\n",
        "\n",
        "ax = plt.gca()\n",
        "ax.plot(alphas, coefs)\n",
        "ax.set_xscale('log')\n",
        "ax.set_xlim(ax.get_xlim()[::-1])  # reverse axis\n",
        "plt.axis('tight')\n",
        "plt.xlabel('alpha')\n",
        "plt.ylabel('weights')\n",
        "plt.title('Ridge coefficients as a function of the regularization')"
      ]
    },
    {
      "cell_type": "markdown",
      "metadata": {
        "id": "Dvot8nKbrhmD"
      },
      "source": [
        "The above plot shows that the Ridge coefficients get larger when we decrease alpha.\n",
        "We now split the samples into a training set and a test set in order to estimate the test error of ridge regression and the lasso."
      ]
    },
    {
      "cell_type": "code",
      "execution_count": 90,
      "metadata": {
        "id": "rMrCCD08rhmD"
      },
      "outputs": [],
      "source": [
        "X_train, X_test, y_train, y_test = train_test_split(X, y, test_size=0.5, random_state=1)"
      ]
    },
    {
      "cell_type": "markdown",
      "metadata": {
        "id": "Hd1U5MCarhmD"
      },
      "source": [
        "Note that if we had instead simply fit a model with just an intercept, we would have predicted each test observation using the mean of the training observations. In that case, we could compute the test set MSE like this:"
      ]
    },
    {
      "cell_type": "code",
      "execution_count": null,
      "metadata": {
        "colab": {
          "base_uri": "https://localhost:8080/"
        },
        "id": "ZtV8BeKurhmD",
        "outputId": "b9925d3d-c786-4143-8315-fd882e9a7663"
      },
      "outputs": [
        {
          "data": {
            "text/plain": [
              "172862.23592080915"
            ]
          },
          "execution_count": 47,
          "metadata": {},
          "output_type": "execute_result"
        }
      ],
      "source": [
        "np.mean((np.mean(y_train) - y_test)**2)"
      ]
    },
    {
      "cell_type": "markdown",
      "metadata": {
        "id": "TszQS9VFrhmD"
      },
      "source": [
        "We could also get similar result by fitting a ridge regression model with a *very* large value of $\\lambda$. Note that `1e10` means $10^{10}$.\n",
        "This big penalty shrinks the coefficients to a very large degree and makes the model more biased, resulting in a higher MSE."
      ]
    },
    {
      "cell_type": "code",
      "execution_count": null,
      "metadata": {
        "colab": {
          "base_uri": "https://localhost:8080/"
        },
        "id": "cO4PVRASftel",
        "outputId": "30fd9842-24e9-4be0-e7a7-4727dbb196db"
      },
      "outputs": [
        {
          "data": {
            "text/plain": [
              "StandardScaler()"
            ]
          },
          "execution_count": 48,
          "metadata": {},
          "output_type": "execute_result"
        }
      ],
      "source": [
        "scaler = StandardScaler()\n",
        "scaler.fit(X_train)"
      ]
    },
    {
      "cell_type": "code",
      "execution_count": null,
      "metadata": {
        "colab": {
          "base_uri": "https://localhost:8080/"
        },
        "id": "K1p6V2ICrhmD",
        "outputId": "95766afd-adb5-433e-8c1c-e476376285b5"
      },
      "outputs": [
        {
          "data": {
            "text/plain": [
              "172862.22059245987"
            ]
          },
          "execution_count": 49,
          "metadata": {},
          "output_type": "execute_result"
        }
      ],
      "source": [
        "model = Ridge()\n",
        "model.set_params(alpha=10**10)\n",
        "X_scale = scaler.transform(X_train)\n",
        "model.fit(X_scale, y_train)\n",
        "X_scale_t = scaler.transform(X_test)\n",
        "pred = model.predict(X_scale_t)\n",
        "mean_squared_error(y_test, pred)"
      ]
    },
    {
      "cell_type": "markdown",
      "metadata": {
        "id": "fYH6UTy_rhmE"
      },
      "source": [
        "Next we fit a ridge regression model on the training set, and evaluate its MSE on the test set"
      ]
    },
    {
      "cell_type": "code",
      "execution_count": null,
      "metadata": {
        "id": "1sX2hzGOrhmE"
      },
      "outputs": [],
      "source": [
        "validation_score = []\n",
        "X_scale_t = scaler.transform(X_test)\n",
        "for alpha in alphas:\n",
        "    model = Ridge(alpha=alpha)\n",
        "    model.fit(X_scale,y_train) #compare normalize=True vs standardize\n",
        "    validation_score.append(mean_squared_error(model.predict(X_scale_t),y_test))"
      ]
    },
    {
      "cell_type": "code",
      "execution_count": null,
      "metadata": {
        "colab": {
          "base_uri": "https://localhost:8080/",
          "height": 278
        },
        "id": "_s7Ce1TvrhmE",
        "outputId": "3462b910-7486-4881-fed1-e8430f7e4ad5"
      },
      "outputs": [
        {
          "data": {
            "image/png": "[encoded data removed]",
            "text/plain": [
              "<Figure size 432x288 with 1 Axes>"
            ]
          },
          "metadata": {},
          "output_type": "display_data"
        }
      ],
      "source": [
        "sns.lineplot(x=alphas,y=validation_score)\n",
        "plt.xscale('log')"
      ]
    },
    {
      "cell_type": "code",
      "execution_count": null,
      "metadata": {
        "colab": {
          "base_uri": "https://localhost:8080/"
        },
        "id": "dkg2whlfrhmE",
        "outputId": "d3e30151-0d44-4b02-8d41-632a94993f73"
      },
      "outputs": [
        {
          "data": {
            "text/plain": [
              "65"
            ]
          },
          "execution_count": 52,
          "metadata": {},
          "output_type": "execute_result"
        }
      ],
      "source": [
        "np.argmin(validation_score)"
      ]
    },
    {
      "cell_type": "markdown",
      "metadata": {
        "id": "um5mLmgsrhmE"
      },
      "source": [
        "Therefore, we see that the value of alpha that results in the smallest cross-validation error is the 64th. What is the test MSE associated with this value of alpha?"
      ]
    },
    {
      "cell_type": "code",
      "execution_count": null,
      "metadata": {
        "colab": {
          "base_uri": "https://localhost:8080/"
        },
        "id": "B9SEsUJ1rhmE",
        "outputId": "4f488dd0-a627-4936-c7ba-993ed7949241"
      },
      "outputs": [
        {
          "data": {
            "text/plain": [
              "(132.19411484660287, 99557.32756698191)"
            ]
          },
          "execution_count": 53,
          "metadata": {},
          "output_type": "execute_result"
        }
      ],
      "source": [
        "alphas[65], validation_score[65]"
      ]
    },
    {
      "cell_type": "markdown",
      "metadata": {
        "id": "kDzdoTpNrhmE"
      },
      "source": [
        "We can also do built-in cross-validation using `RidgeCV`"
      ]
    },
    {
      "cell_type": "code",
      "execution_count": null,
      "metadata": {
        "colab": {
          "base_uri": "https://localhost:8080/"
        },
        "id": "Nnx2Xb9KrhmE",
        "outputId": "40fea59b-10cd-4770-eda4-db12352eb8c3"
      },
      "outputs": [
        {
          "data": {
            "text/plain": [
              "RidgeCV(alphas=array([1.00000000e+10, 7.56463328e+09, 5.72236766e+09, 4.32876128e+09,\n",
              "       3.27454916e+09, 2.47707636e+09, 1.87381742e+09, 1.41747416e+09,\n",
              "       1.07226722e+09, 8.11130831e+08, 6.13590727e+08, 4.64158883e+08,\n",
              "       3.51119173e+08, 2.65608778e+08, 2.00923300e+08, 1.51991108e+08,\n",
              "       1.14975700e+08, 8.69749003e+07, 6.57933225e+07, 4.97702356e+07,\n",
              "       3.76493581e+07, 2.84803587e+0...\n",
              "       2.00923300e+00, 1.51991108e+00, 1.14975700e+00, 8.69749003e-01,\n",
              "       6.57933225e-01, 4.97702356e-01, 3.76493581e-01, 2.84803587e-01,\n",
              "       2.15443469e-01, 1.62975083e-01, 1.23284674e-01, 9.32603347e-02,\n",
              "       7.05480231e-02, 5.33669923e-02, 4.03701726e-02, 3.05385551e-02,\n",
              "       2.31012970e-02, 1.74752840e-02, 1.32194115e-02, 1.00000000e-02]),\n",
              "        cv=KFold(n_splits=10, random_state=2, shuffle=True),\n",
              "        scoring='neg_mean_squared_error')"
            ]
          },
          "execution_count": 54,
          "metadata": {},
          "output_type": "execute_result"
        }
      ],
      "source": [
        "kf = KFold(n_splits=10, shuffle=True, random_state=2)\n",
        "ridgecv = RidgeCV(alphas=alphas, scoring='neg_mean_squared_error', cv=kf)\n",
        "ridgecv.fit(X_scale, y_train)"
      ]
    },
    {
      "cell_type": "code",
      "execution_count": null,
      "metadata": {
        "colab": {
          "base_uri": "https://localhost:8080/"
        },
        "id": "GLak5uOyrhmE",
        "outputId": "7f66542a-a0a2-4d9d-9d3e-201f97f3f89d"
      },
      "outputs": [
        {
          "data": {
            "text/plain": [
              "100.0"
            ]
          },
          "execution_count": 55,
          "metadata": {},
          "output_type": "execute_result"
        }
      ],
      "source": [
        "ridgecv.alpha_"
      ]
    },
    {
      "cell_type": "code",
      "execution_count": null,
      "metadata": {
        "colab": {
          "base_uri": "https://localhost:8080/"
        },
        "id": "M1hVADW4rhmF",
        "outputId": "f02322d5-8667-424f-e8d1-624c93622ffc"
      },
      "outputs": [
        {
          "data": {
            "text/plain": [
              "99586.56834382795"
            ]
          },
          "execution_count": 56,
          "metadata": {},
          "output_type": "execute_result"
        }
      ],
      "source": [
        "model.set_params(alpha=ridgecv.alpha_)\n",
        "model.fit(X_scale, y_train)\n",
        "mean_squared_error(y_test, model.predict(X_scale_t))"
      ]
    },
    {
      "cell_type": "markdown",
      "metadata": {
        "id": "nS5meb5BrhmF"
      },
      "source": [
        "#### Fit model to full data set"
      ]
    },
    {
      "cell_type": "code",
      "execution_count": null,
      "metadata": {
        "colab": {
          "base_uri": "https://localhost:8080/"
        },
        "id": "jK0jOy1orhmF",
        "outputId": "a4bb403f-d61b-4e33-b580-3f43bb4a0ea4"
      },
      "outputs": [
        {
          "data": {
            "text/plain": [
              "Ridge(alpha=100.0)"
            ]
          },
          "execution_count": 57,
          "metadata": {},
          "output_type": "execute_result"
        }
      ],
      "source": [
        "model.fit(scale(X), y)"
      ]
    },
    {
      "cell_type": "code",
      "execution_count": null,
      "metadata": {
        "colab": {
          "base_uri": "https://localhost:8080/"
        },
        "id": "_E7jTTXxgYok",
        "outputId": "28da8047-de81-4195-e62a-427507b59148"
      },
      "outputs": [
        {
          "data": {
            "text/plain": [
              "AtBat          -0.006619\n",
              "Hits           49.467498\n",
              "HmRun          -0.859718\n",
              "Runs           28.891970\n",
              "RBI            22.425519\n",
              "Walks          41.183554\n",
              "Years          -2.737654\n",
              "CAtBat         24.915049\n",
              "CHits          44.636902\n",
              "CHmRun         38.851734\n",
              "CRuns          45.225776\n",
              "CRBI           47.320463\n",
              "CWalks          3.558932\n",
              "PutOuts        56.671318\n",
              "Assists         7.335151\n",
              "Errors        -13.493719\n",
              "League_N       14.878188\n",
              "Division_W    -48.564908\n",
              "NewLeague_N     2.817544\n",
              "dtype: float64"
            ]
          },
          "execution_count": 58,
          "metadata": {},
          "output_type": "execute_result"
        }
      ],
      "source": [
        "pd.Series(model.coef_.flatten(), index=X.columns)"
      ]
    },
    {
      "cell_type": "markdown",
      "metadata": {
        "id": "iMdwngVJrhmF"
      },
      "source": [
        "As expected, none of the coefficients are zero---ridge regression does not perform variable selection!\n",
        "\n",
        "You can also fit the ridge regression with LOOCV, this should be efficient since their is corresponding shortcut equation"
      ]
    },
    {
      "cell_type": "code",
      "execution_count": null,
      "metadata": {
        "colab": {
          "base_uri": "https://localhost:8080/"
        },
        "id": "dRPRdCEe1rVo",
        "outputId": "7e04c0c4-8a7d-4244-c60f-9e845b1b63c4"
      },
      "outputs": [
        {
          "data": {
            "text/plain": [
              "RidgeCV(alphas=array([1.00000000e+10, 7.56463328e+09, 5.72236766e+09, 4.32876128e+09,\n",
              "       3.27454916e+09, 2.47707636e+09, 1.87381742e+09, 1.41747416e+09,\n",
              "       1.07226722e+09, 8.11130831e+08, 6.13590727e+08, 4.64158883e+08,\n",
              "       3.51119173e+08, 2.65608778e+08, 2.00923300e+08, 1.51991108e+08,\n",
              "       1.14975700e+08, 8.69749003e+07, 6.57933225e+07, 4.97702356e+07,\n",
              "       3.76493581e+07, 2.84803587e+0...\n",
              "       2.00923300e+00, 1.51991108e+00, 1.14975700e+00, 8.69749003e-01,\n",
              "       6.57933225e-01, 4.97702356e-01, 3.76493581e-01, 2.84803587e-01,\n",
              "       2.15443469e-01, 1.62975083e-01, 1.23284674e-01, 9.32603347e-02,\n",
              "       7.05480231e-02, 5.33669923e-02, 4.03701726e-02, 3.05385551e-02,\n",
              "       2.31012970e-02, 1.74752840e-02, 1.32194115e-02, 1.00000000e-02]),\n",
              "        gcv_mode='auto', scoring='neg_mean_squared_error')"
            ]
          },
          "execution_count": 59,
          "metadata": {},
          "output_type": "execute_result"
        }
      ],
      "source": [
        "ridgeloocv = RidgeCV(alphas=alphas, scoring='neg_mean_squared_error', gcv_mode='auto')\n",
        "ridgeloocv.fit(X_scale, y_train)"
      ]
    },
    {
      "cell_type": "code",
      "execution_count": null,
      "metadata": {
        "colab": {
          "base_uri": "https://localhost:8080/"
        },
        "id": "BcQfdbDW107g",
        "outputId": "c942de4c-3213-4faa-e311-3edaebf735a3"
      },
      "outputs": [
        {
          "data": {
            "text/plain": [
              "75.64633275546291"
            ]
          },
          "execution_count": 60,
          "metadata": {},
          "output_type": "execute_result"
        }
      ],
      "source": [
        "ridgeloocv.alpha_"
      ]
    },
    {
      "cell_type": "code",
      "execution_count": null,
      "metadata": {
        "colab": {
          "base_uri": "https://localhost:8080/"
        },
        "id": "n-WfVgLO2Drh",
        "outputId": "ec9ef5c7-3344-4d4c-afec-a0a602f05f9c"
      },
      "outputs": [
        {
          "data": {
            "text/plain": [
              "99820.74305168974"
            ]
          },
          "execution_count": 61,
          "metadata": {},
          "output_type": "execute_result"
        }
      ],
      "source": [
        "model.set_params(alpha=ridgeloocv.alpha_)\n",
        "model.fit(X_scale, y_train)\n",
        "mean_squared_error(y_test, model.predict(X_scale_t))"
      ]
    },
    {
      "cell_type": "code",
      "execution_count": null,
      "metadata": {
        "colab": {
          "base_uri": "https://localhost:8080/"
        },
        "id": "XcNRpQlq2Ohf",
        "outputId": "d183a8c8-b0dd-4c74-bef0-0917d6cf28c9"
      },
      "outputs": [
        {
          "data": {
            "text/plain": [
              "Ridge(alpha=75.64633275546291)"
            ]
          },
          "execution_count": 62,
          "metadata": {},
          "output_type": "execute_result"
        }
      ],
      "source": [
        "model.fit(scale(X), y)"
      ]
    },
    {
      "cell_type": "markdown",
      "metadata": {
        "id": "4VVkx_W7rhmF"
      },
      "source": [
        "### The Lasso\n",
        "\n",
        "We saw that ridge regression with a wise choice of alpha may outperform least squares as well as the null model on the `Hitters` data set. We now ask whether the lasso can yield either a more accurate or a more interpretable model than ridge regression. The following we plot 19 coefficients (excluding intercept) for 100 different alphas."
      ]
    },
    {
      "cell_type": "code",
      "execution_count": null,
      "metadata": {
        "colab": {
          "base_uri": "https://localhost:8080/",
          "height": 318
        },
        "id": "DsrFmN30rhmF",
        "outputId": "b235ab23-c823-46ab-cff6-f10fc122f55a"
      },
      "outputs": [
        {
          "data": {
            "image/png": "[encoded data removed]",
            "text/plain": [
              "<Figure size 432x288 with 1 Axes>"
            ]
          },
          "metadata": {},
          "output_type": "display_data"
        }
      ],
      "source": [
        "lasso = Lasso(max_iter=10000)\n",
        "coefs = []\n",
        "\n",
        "for a in alphas:\n",
        "    lasso.set_params(alpha=a)\n",
        "    lasso.fit(scale(X_train), y_train)\n",
        "    coefs.append(lasso.coef_)\n",
        "\n",
        "ax = plt.gca()\n",
        "ax.plot(alphas, coefs)\n",
        "ax.set_xscale('log')\n",
        "ax.set_xlim(ax.get_xlim()[::-1])  # reverse axis\n",
        "plt.axis('tight')\n",
        "plt.xlabel('alpha')\n",
        "plt.ylabel('weights')\n",
        "plt.title('Lasso coefficients as a function of the regularization');"
      ]
    },
    {
      "cell_type": "markdown",
      "metadata": {
        "id": "seLDXCzhrhmF"
      },
      "source": [
        "We can see from the coefficient plot that depending on the choice of tuning parameter, some of the coefficients will be exactly equal to zero. We now perform cross-validation and compute the associated test error."
      ]
    },
    {
      "cell_type": "code",
      "execution_count": null,
      "metadata": {
        "colab": {
          "base_uri": "https://localhost:8080/"
        },
        "id": "VaQHJ-99rhmF",
        "outputId": "5c911aba-e42d-4afb-a961-2f097bdd1182"
      },
      "outputs": [
        {
          "data": {
            "text/plain": [
              "LassoCV(cv=KFold(n_splits=10, random_state=2, shuffle=True), max_iter=10000)"
            ]
          },
          "execution_count": 64,
          "metadata": {},
          "output_type": "execute_result"
        }
      ],
      "source": [
        "kf = KFold(n_splits=10, shuffle=True, random_state=2)\n",
        "lassocv = LassoCV(alphas=None, cv=kf, max_iter=10000)\n",
        "lassocv.fit(X_scale, y_train.values.ravel())"
      ]
    },
    {
      "cell_type": "code",
      "execution_count": null,
      "metadata": {
        "colab": {
          "base_uri": "https://localhost:8080/"
        },
        "id": "tLNbBCclrhmG",
        "outputId": "ea4f23da-dc33-46b0-c66f-7e2b37c0333f"
      },
      "outputs": [
        {
          "data": {
            "text/plain": [
              "25.649654020305032"
            ]
          },
          "execution_count": 65,
          "metadata": {},
          "output_type": "execute_result"
        }
      ],
      "source": [
        "lassocv.alpha_"
      ]
    },
    {
      "cell_type": "code",
      "execution_count": null,
      "metadata": {
        "colab": {
          "base_uri": "https://localhost:8080/"
        },
        "id": "E2QPc4BkrhmG",
        "outputId": "880873ee-ef5a-4151-b44c-3433106577fb"
      },
      "outputs": [
        {
          "data": {
            "text/plain": [
              "104853.47279766494"
            ]
          },
          "execution_count": 66,
          "metadata": {},
          "output_type": "execute_result"
        }
      ],
      "source": [
        "lasso.set_params(alpha=lassocv.alpha_)\n",
        "lasso.fit(X_scale, y_train)\n",
        "mean_squared_error(y_test, lasso.predict(X_scale_t))"
      ]
    },
    {
      "cell_type": "code",
      "execution_count": null,
      "metadata": {
        "colab": {
          "base_uri": "https://localhost:8080/"
        },
        "id": "LDHqzz_grhmG",
        "outputId": "4b8c1577-8343-4a90-f837-11d7d4fe6a63"
      },
      "outputs": [
        {
          "data": {
            "text/plain": [
              "Lasso(alpha=25.649654020305032, max_iter=10000)"
            ]
          },
          "execution_count": 67,
          "metadata": {},
          "output_type": "execute_result"
        }
      ],
      "source": [
        "# fit the full model\n",
        "lasso.fit(scale(X), y)"
      ]
    },
    {
      "cell_type": "code",
      "execution_count": null,
      "metadata": {
        "colab": {
          "base_uri": "https://localhost:8080/"
        },
        "id": "IZGgeoKUrhmG",
        "outputId": "9c79a4bd-2375-44c1-b15f-debe69b6e5f4"
      },
      "outputs": [
        {
          "data": {
            "text/plain": [
              "AtBat            0.000000\n",
              "Hits            80.723891\n",
              "HmRun            0.000000\n",
              "Runs             0.000000\n",
              "RBI              0.000000\n",
              "Walks           45.833055\n",
              "Years            0.000000\n",
              "CAtBat           0.000000\n",
              "CHits            0.000000\n",
              "CHmRun           0.000000\n",
              "CRuns           65.022016\n",
              "CRBI           129.889483\n",
              "CWalks           0.000000\n",
              "PutOuts         55.241441\n",
              "Assists         -0.000000\n",
              "Errors          -0.000000\n",
              "League_N         0.000000\n",
              "Division_W     -43.731588\n",
              "NewLeague_N      0.000000\n",
              "dtype: float64"
            ]
          },
          "execution_count": 68,
          "metadata": {},
          "output_type": "execute_result"
        }
      ],
      "source": [
        "# Some of the coefficients are now reduced to exactly zero.\n",
        "pd.Series(lasso.coef_, index=X.columns)"
      ]
    },
    {
      "cell_type": "markdown",
      "metadata": {
        "id": "HX8KSbMurhmG"
      },
      "source": [
        "The test set MSE is very similar to the test MSE of ridge regression with $\\alpha$ chosen by cross-validation.\n",
        "\n",
        "However, the lasso has a substantial advantage over ridge regression in that the resulting coefficient estimates are sparse. Here we see that 13 of the 19 coefficient estimates are exactly zero. So the lasso model with $\\alpha$ chosen by cross-validation contains only six variables."
      ]
    },
    {
      "cell_type": "markdown",
      "metadata": {
        "id": "mktWgKmKrhmG"
      },
      "source": [
        "## PCR and PLS Regression\n",
        "\n",
        "### Principal Components Regression"
      ]
    },
    {
      "cell_type": "markdown",
      "metadata": {
        "id": "EXa2TmCSrhmG"
      },
      "source": [
        "Principal components regression (PCR) can be performed using the `pca` function. We now apply PCR to the `Hitters` data, in order to predict `Salary`. Again, we ensure that the missing values have been removed from the data, as described in Section 6.5.1."
      ]
    },
    {
      "cell_type": "code",
      "execution_count": null,
      "metadata": {
        "colab": {
          "base_uri": "https://localhost:8080/",
          "height": 224
        },
        "id": "9gmlUNaZrhmG",
        "outputId": "8d414f82-578b-422c-f4a5-9756f8ccacb9"
      },
      "outputs": [
        {
          "name": "stdout",
          "output_type": "stream",
          "text": [
            "(19, 19)\n"
          ]
        },
        {
          "data": {
            "text/html": [
              "\n",
              "  <div id=\"df-7e0f3cdd-8a3b-402c-952a-38a572db322a\">\n",
              "    <div class=\"colab-df-container\">\n",
              "      <div>\n",
              "<style scoped>\n",
              "    .dataframe tbody tr th:only-of-type {\n",
              "        vertical-align: middle;\n",
              "    }\n",
              "\n",
              "    .dataframe tbody tr th {\n",
              "        vertical-align: top;\n",
              "    }\n",
              "\n",
              "    .dataframe thead th {\n",
              "        text-align: right;\n",
              "    }\n",
              "</style>\n",
              "<table border=\"1\" class=\"dataframe\">\n",
              "  <thead>\n",
              "    <tr style=\"text-align: right;\">\n",
              "      <th></th>\n",
              "      <th>0</th>\n",
              "      <th>1</th>\n",
              "      <th>2</th>\n",
              "      <th>3</th>\n",
              "      <th>4</th>\n",
              "      <th>5</th>\n",
              "    </tr>\n",
              "  </thead>\n",
              "  <tbody>\n",
              "    <tr>\n",
              "      <th>0</th>\n",
              "      <td>0.198290</td>\n",
              "      <td>-0.383784</td>\n",
              "      <td>0.088626</td>\n",
              "      <td>0.031967</td>\n",
              "      <td>0.028117</td>\n",
              "      <td>-0.070646</td>\n",
              "    </tr>\n",
              "    <tr>\n",
              "      <th>1</th>\n",
              "      <td>0.195861</td>\n",
              "      <td>-0.377271</td>\n",
              "      <td>0.074032</td>\n",
              "      <td>0.017982</td>\n",
              "      <td>-0.004652</td>\n",
              "      <td>-0.082240</td>\n",
              "    </tr>\n",
              "    <tr>\n",
              "      <th>2</th>\n",
              "      <td>0.204369</td>\n",
              "      <td>-0.237136</td>\n",
              "      <td>-0.216186</td>\n",
              "      <td>-0.235831</td>\n",
              "      <td>0.077660</td>\n",
              "      <td>-0.149646</td>\n",
              "    </tr>\n",
              "    <tr>\n",
              "      <th>3</th>\n",
              "      <td>0.198337</td>\n",
              "      <td>-0.377721</td>\n",
              "      <td>-0.017166</td>\n",
              "      <td>-0.049942</td>\n",
              "      <td>-0.038536</td>\n",
              "      <td>-0.136660</td>\n",
              "    </tr>\n",
              "    <tr>\n",
              "      <th>4</th>\n",
              "      <td>0.235174</td>\n",
              "      <td>-0.314531</td>\n",
              "      <td>-0.073085</td>\n",
              "      <td>-0.138985</td>\n",
              "      <td>0.024299</td>\n",
              "      <td>-0.111675</td>\n",
              "    </tr>\n",
              "  </tbody>\n",
              "</table>\n",
              "</div>\n",
              "      <button class=\"colab-df-convert\" onclick=\"convertToInteractive('df-7e0f3cdd-8a3b-402c-952a-38a572db322a')\"\n",
              "              title=\"Convert this dataframe to an interactive table.\"\n",
              "              style=\"display:none;\">\n",
              "        \n",
              "  <svg xmlns=\"http://www.w3.org/2000/svg\" height=\"24px\"viewBox=\"0 0 24 24\"\n",
              "       width=\"24px\">\n",
              "    <path d=\"M0 0h24v24H0V0z\" fill=\"none\"/>\n",
              "    <path d=\"M18.56 5.44l.94 2.06.94-2.06 2.06-.94-2.06-.94-.94-2.06-.94 2.06-2.06.94zm-11 1L8.5 8.5l.94-2.06 2.06-.94-2.06-.94L8.5 2.5l-.94 2.06-2.06.94zm10 10l.94 2.06.94-2.06 2.06-.94-2.06-.94-.94-2.06-.94 2.06-2.06.94z\"/><path d=\"M17.41 7.96l-1.37-1.37c-.4-.4-.92-.59-1.43-.59-.52 0-1.04.2-1.43.59L10.3 9.45l-7.72 7.72c-.78.78-.78 2.05 0 2.83L4 21.41c.39.39.9.59 1.41.59.51 0 1.02-.2 1.41-.59l7.78-7.78 2.81-2.81c.8-.78.8-2.07 0-2.86zM5.41 20L4 18.59l7.72-7.72 1.47 1.35L5.41 20z\"/>\n",
              "  </svg>\n",
              "      </button>\n",
              "      \n",
              "  <style>\n",
              "    .colab-df-container {\n",
              "      display:flex;\n",
              "      flex-wrap:wrap;\n",
              "      gap: 12px;\n",
              "    }\n",
              "\n",
              "    .colab-df-convert {\n",
              "      background-color: #E8F0FE;\n",
              "      border: none;\n",
              "      border-radius: 50%;\n",
              "      cursor: pointer;\n",
              "      display: none;\n",
              "      fill: #1967D2;\n",
              "      height: 32px;\n",
              "      padding: 0 0 0 0;\n",
              "      width: 32px;\n",
              "    }\n",
              "\n",
              "    .colab-df-convert:hover {\n",
              "      background-color: #E2EBFA;\n",
              "      box-shadow: 0px 1px 2px rgba(60, 64, 67, 0.3), 0px 1px 3px 1px rgba(60, 64, 67, 0.15);\n",
              "      fill: #174EA6;\n",
              "    }\n",
              "\n",
              "    [theme=dark] .colab-df-convert {\n",
              "      background-color: #3B4455;\n",
              "      fill: #D2E3FC;\n",
              "    }\n",
              "\n",
              "    [theme=dark] .colab-df-convert:hover {\n",
              "      background-color: #434B5C;\n",
              "      box-shadow: 0px 1px 3px 1px rgba(0, 0, 0, 0.15);\n",
              "      filter: drop-shadow(0px 1px 2px rgba(0, 0, 0, 0.3));\n",
              "      fill: #FFFFFF;\n",
              "    }\n",
              "  </style>\n",
              "\n",
              "      <script>\n",
              "        const buttonEl =\n",
              "          document.querySelector('#df-7e0f3cdd-8a3b-402c-952a-38a572db322a button.colab-df-convert');\n",
              "        buttonEl.style.display =\n",
              "          google.colab.kernel.accessAllowed ? 'block' : 'none';\n",
              "\n",
              "        async function convertToInteractive(key) {\n",
              "          const element = document.querySelector('#df-7e0f3cdd-8a3b-402c-952a-38a572db322a');\n",
              "          const dataTable =\n",
              "            await google.colab.kernel.invokeFunction('convertToInteractive',\n",
              "                                                     [key], {});\n",
              "          if (!dataTable) return;\n",
              "\n",
              "          const docLinkHtml = 'Like what you see? Visit the ' +\n",
              "            '<a target=\"_blank\" href=https://colab.research.google.com/notebooks/data_table.ipynb>data table notebook</a>'\n",
              "            + ' to learn more about interactive tables.';\n",
              "          element.innerHTML = '';\n",
              "          dataTable['output_type'] = 'display_data';\n",
              "          await google.colab.output.renderOutput(dataTable, element);\n",
              "          const docLink = document.createElement('div');\n",
              "          docLink.innerHTML = docLinkHtml;\n",
              "          element.appendChild(docLink);\n",
              "        }\n",
              "      </script>\n",
              "    </div>\n",
              "  </div>\n",
              "  "
            ],
            "text/plain": [
              "          0         1         2         3         4         5\n",
              "0  0.198290 -0.383784  0.088626  0.031967  0.028117 -0.070646\n",
              "1  0.195861 -0.377271  0.074032  0.017982 -0.004652 -0.082240\n",
              "2  0.204369 -0.237136 -0.216186 -0.235831  0.077660 -0.149646\n",
              "3  0.198337 -0.377721 -0.017166 -0.049942 -0.038536 -0.136660\n",
              "4  0.235174 -0.314531 -0.073085 -0.138985  0.024299 -0.111675"
            ]
          },
          "execution_count": 69,
          "metadata": {},
          "output_type": "execute_result"
        }
      ],
      "source": [
        "pca = PCA()\n",
        "X_reduced = pca.fit_transform(scale(X)) #standardize before PCA\n",
        "\n",
        "print(pca.components_.shape)\n",
        "pd.DataFrame(pca.components_.T).loc[:4,:5]"
      ]
    },
    {
      "cell_type": "code",
      "execution_count": null,
      "metadata": {
        "colab": {
          "base_uri": "https://localhost:8080/",
          "height": 224
        },
        "id": "b-hKBYs-rhmG",
        "outputId": "fc6b7f42-1fce-4d19-8e72-ec1a8dc02dab"
      },
      "outputs": [
        {
          "name": "stdout",
          "output_type": "stream",
          "text": [
            "(263, 19)\n"
          ]
        },
        {
          "data": {
            "text/html": [
              "\n",
              "  <div id=\"df-bf1e4a5f-bebc-4ce3-9f71-7e2794131455\">\n",
              "    <div class=\"colab-df-container\">\n",
              "      <div>\n",
              "<style scoped>\n",
              "    .dataframe tbody tr th:only-of-type {\n",
              "        vertical-align: middle;\n",
              "    }\n",
              "\n",
              "    .dataframe tbody tr th {\n",
              "        vertical-align: top;\n",
              "    }\n",
              "\n",
              "    .dataframe thead th {\n",
              "        text-align: right;\n",
              "    }\n",
              "</style>\n",
              "<table border=\"1\" class=\"dataframe\">\n",
              "  <thead>\n",
              "    <tr style=\"text-align: right;\">\n",
              "      <th></th>\n",
              "      <th>0</th>\n",
              "      <th>1</th>\n",
              "      <th>2</th>\n",
              "      <th>3</th>\n",
              "      <th>4</th>\n",
              "      <th>5</th>\n",
              "    </tr>\n",
              "  </thead>\n",
              "  <tbody>\n",
              "    <tr>\n",
              "      <th>0</th>\n",
              "      <td>-0.009649</td>\n",
              "      <td>1.870522</td>\n",
              "      <td>1.265145</td>\n",
              "      <td>-0.935481</td>\n",
              "      <td>1.109636</td>\n",
              "      <td>1.211972</td>\n",
              "    </tr>\n",
              "    <tr>\n",
              "      <th>1</th>\n",
              "      <td>0.411434</td>\n",
              "      <td>-2.429422</td>\n",
              "      <td>-0.909193</td>\n",
              "      <td>-0.264212</td>\n",
              "      <td>1.232031</td>\n",
              "      <td>1.826617</td>\n",
              "    </tr>\n",
              "    <tr>\n",
              "      <th>2</th>\n",
              "      <td>3.466822</td>\n",
              "      <td>0.825947</td>\n",
              "      <td>0.555469</td>\n",
              "      <td>-1.616726</td>\n",
              "      <td>-0.857488</td>\n",
              "      <td>-1.028712</td>\n",
              "    </tr>\n",
              "    <tr>\n",
              "      <th>3</th>\n",
              "      <td>-2.558317</td>\n",
              "      <td>-0.230984</td>\n",
              "      <td>0.519642</td>\n",
              "      <td>-2.176251</td>\n",
              "      <td>-0.820301</td>\n",
              "      <td>1.491696</td>\n",
              "    </tr>\n",
              "    <tr>\n",
              "      <th>4</th>\n",
              "      <td>1.027702</td>\n",
              "      <td>-1.573537</td>\n",
              "      <td>1.331382</td>\n",
              "      <td>3.494004</td>\n",
              "      <td>0.983427</td>\n",
              "      <td>0.513675</td>\n",
              "    </tr>\n",
              "  </tbody>\n",
              "</table>\n",
              "</div>\n",
              "      <button class=\"colab-df-convert\" onclick=\"convertToInteractive('df-bf1e4a5f-bebc-4ce3-9f71-7e2794131455')\"\n",
              "              title=\"Convert this dataframe to an interactive table.\"\n",
              "              style=\"display:none;\">\n",
              "        \n",
              "  <svg xmlns=\"http://www.w3.org/2000/svg\" height=\"24px\"viewBox=\"0 0 24 24\"\n",
              "       width=\"24px\">\n",
              "    <path d=\"M0 0h24v24H0V0z\" fill=\"none\"/>\n",
              "    <path d=\"M18.56 5.44l.94 2.06.94-2.06 2.06-.94-2.06-.94-.94-2.06-.94 2.06-2.06.94zm-11 1L8.5 8.5l.94-2.06 2.06-.94-2.06-.94L8.5 2.5l-.94 2.06-2.06.94zm10 10l.94 2.06.94-2.06 2.06-.94-2.06-.94-.94-2.06-.94 2.06-2.06.94z\"/><path d=\"M17.41 7.96l-1.37-1.37c-.4-.4-.92-.59-1.43-.59-.52 0-1.04.2-1.43.59L10.3 9.45l-7.72 7.72c-.78.78-.78 2.05 0 2.83L4 21.41c.39.39.9.59 1.41.59.51 0 1.02-.2 1.41-.59l7.78-7.78 2.81-2.81c.8-.78.8-2.07 0-2.86zM5.41 20L4 18.59l7.72-7.72 1.47 1.35L5.41 20z\"/>\n",
              "  </svg>\n",
              "      </button>\n",
              "      \n",
              "  <style>\n",
              "    .colab-df-container {\n",
              "      display:flex;\n",
              "      flex-wrap:wrap;\n",
              "      gap: 12px;\n",
              "    }\n",
              "\n",
              "    .colab-df-convert {\n",
              "      background-color: #E8F0FE;\n",
              "      border: none;\n",
              "      border-radius: 50%;\n",
              "      cursor: pointer;\n",
              "      display: none;\n",
              "      fill: #1967D2;\n",
              "      height: 32px;\n",
              "      padding: 0 0 0 0;\n",
              "      width: 32px;\n",
              "    }\n",
              "\n",
              "    .colab-df-convert:hover {\n",
              "      background-color: #E2EBFA;\n",
              "      box-shadow: 0px 1px 2px rgba(60, 64, 67, 0.3), 0px 1px 3px 1px rgba(60, 64, 67, 0.15);\n",
              "      fill: #174EA6;\n",
              "    }\n",
              "\n",
              "    [theme=dark] .colab-df-convert {\n",
              "      background-color: #3B4455;\n",
              "      fill: #D2E3FC;\n",
              "    }\n",
              "\n",
              "    [theme=dark] .colab-df-convert:hover {\n",
              "      background-color: #434B5C;\n",
              "      box-shadow: 0px 1px 3px 1px rgba(0, 0, 0, 0.15);\n",
              "      filter: drop-shadow(0px 1px 2px rgba(0, 0, 0, 0.3));\n",
              "      fill: #FFFFFF;\n",
              "    }\n",
              "  </style>\n",
              "\n",
              "      <script>\n",
              "        const buttonEl =\n",
              "          document.querySelector('#df-bf1e4a5f-bebc-4ce3-9f71-7e2794131455 button.colab-df-convert');\n",
              "        buttonEl.style.display =\n",
              "          google.colab.kernel.accessAllowed ? 'block' : 'none';\n",
              "\n",
              "        async function convertToInteractive(key) {\n",
              "          const element = document.querySelector('#df-bf1e4a5f-bebc-4ce3-9f71-7e2794131455');\n",
              "          const dataTable =\n",
              "            await google.colab.kernel.invokeFunction('convertToInteractive',\n",
              "                                                     [key], {});\n",
              "          if (!dataTable) return;\n",
              "\n",
              "          const docLinkHtml = 'Like what you see? Visit the ' +\n",
              "            '<a target=\"_blank\" href=https://colab.research.google.com/notebooks/data_table.ipynb>data table notebook</a>'\n",
              "            + ' to learn more about interactive tables.';\n",
              "          element.innerHTML = '';\n",
              "          dataTable['output_type'] = 'display_data';\n",
              "          await google.colab.output.renderOutput(dataTable, element);\n",
              "          const docLink = document.createElement('div');\n",
              "          docLink.innerHTML = docLinkHtml;\n",
              "          element.appendChild(docLink);\n",
              "        }\n",
              "      </script>\n",
              "    </div>\n",
              "  </div>\n",
              "  "
            ],
            "text/plain": [
              "          0         1         2         3         4         5\n",
              "0 -0.009649  1.870522  1.265145 -0.935481  1.109636  1.211972\n",
              "1  0.411434 -2.429422 -0.909193 -0.264212  1.232031  1.826617\n",
              "2  3.466822  0.825947  0.555469 -1.616726 -0.857488 -1.028712\n",
              "3 -2.558317 -0.230984  0.519642 -2.176251 -0.820301  1.491696\n",
              "4  1.027702 -1.573537  1.331382  3.494004  0.983427  0.513675"
            ]
          },
          "execution_count": 70,
          "metadata": {},
          "output_type": "execute_result"
        }
      ],
      "source": [
        "print(X_reduced.shape)\n",
        "pd.DataFrame(X_reduced).loc[:4,:5]"
      ]
    },
    {
      "cell_type": "code",
      "execution_count": null,
      "metadata": {
        "colab": {
          "base_uri": "https://localhost:8080/"
        },
        "id": "qTUbZB1VrhmH",
        "outputId": "67877bc2-067e-4700-cf24-d00abbe4d05e"
      },
      "outputs": [
        {
          "data": {
            "text/plain": [
              "array([38.31, 60.15, 70.84, 79.03, 84.29, 88.63, 92.26, 94.96, 96.28,\n",
              "       97.25, 97.97, 98.64, 99.14, 99.46, 99.73, 99.88, 99.95, 99.98,\n",
              "       99.99])"
            ]
          },
          "execution_count": 71,
          "metadata": {},
          "output_type": "execute_result"
        }
      ],
      "source": [
        "# Variance explained by the principal components\n",
        "np.cumsum(np.round(pca.explained_variance_ratio_, decimals=4)*100)"
      ]
    },
    {
      "cell_type": "code",
      "execution_count": null,
      "metadata": {
        "colab": {
          "base_uri": "https://localhost:8080/",
          "height": 306
        },
        "id": "t3B4zkcB7OC0",
        "outputId": "8a935869-59c1-4158-95d7-1a2f2ddaa5bd"
      },
      "outputs": [
        {
          "data": {
            "image/png": "[encoded data removed]",
            "text/plain": [
              "<Figure size 432x288 with 1 Axes>"
            ]
          },
          "metadata": {},
          "output_type": "display_data"
        }
      ],
      "source": [
        "plt.plot(np.cumsum(pca.explained_variance_ratio_)) #scree plot\n",
        "plt.xlabel('number of components')\n",
        "plt.ylabel('cumulative explained variance');"
      ]
    },
    {
      "cell_type": "markdown",
      "metadata": {
        "id": "Er3PYyufrhmH"
      },
      "source": [
        "#### Fitting PCA with training data\n",
        "\n",
        "In this method, we use the train/val/test split scheme like the lab in the textbook"
      ]
    },
    {
      "cell_type": "code",
      "execution_count": null,
      "metadata": {
        "colab": {
          "base_uri": "https://localhost:8080/",
          "height": 313
        },
        "id": "RXxdZ7HArhmH",
        "outputId": "a9c03178-d854-40d5-a1cc-cbc768953a0d"
      },
      "outputs": [
        {
          "data": {
            "image/png": "[encoded data removed]",
            "text/plain": [
              "<Figure size 432x288 with 1 Axes>"
            ]
          },
          "metadata": {},
          "output_type": "display_data"
        }
      ],
      "source": [
        "pca2 = PCA()\n",
        "X_reduced_train = pca2.fit_transform(X_scale)\n",
        "n = len(X_reduced_train)\n",
        "\n",
        "# 10-fold CV, with shuffle\n",
        "kf_10 = KFold(n_splits=10, shuffle=True, random_state=2)\n",
        "\n",
        "mse = []\n",
        "regr = LinearRegression()\n",
        "# Calculate MSE with only the intercept (no principal components in regression) \n",
        "score = -1*cross_val_score(regr, np.ones((n,1)), y_train, cv=kf_10, scoring='neg_mean_squared_error').mean()    \n",
        "mse.append(score)\n",
        "\n",
        "# Calculate MSE using CV for the 19 principle components, adding one component at the time.\n",
        "for i in np.arange(1, 20):\n",
        "    score = -1*cross_val_score(regr, X_reduced_train[:,:i], y_train, cv=kf_10, scoring='neg_mean_squared_error').mean()\n",
        "    mse.append(score)\n",
        "\n",
        "plt.plot(np.arange(0, 20), np.array(mse), '-v')\n",
        "plt.xlabel('Number of principal components in regression')\n",
        "plt.ylabel('MSE')\n",
        "plt.title('Salary')\n",
        "plt.xlim(xmin=-1);"
      ]
    },
    {
      "cell_type": "code",
      "execution_count": null,
      "metadata": {
        "colab": {
          "base_uri": "https://localhost:8080/"
        },
        "id": "LRm1fjxTrhmH",
        "outputId": "62c40920-5f48-4617-ae3d-bd82fd112220"
      },
      "outputs": [
        {
          "data": {
            "text/plain": [
              "6"
            ]
          },
          "execution_count": 74,
          "metadata": {},
          "output_type": "execute_result"
        }
      ],
      "source": [
        "np.array(mse).argmin() #note mse contains no pc"
      ]
    },
    {
      "cell_type": "markdown",
      "metadata": {
        "id": "BZEr_idorhmI"
      },
      "source": [
        "#### Transform test data with PCA loadings and fit regression on 6 principal components"
      ]
    },
    {
      "cell_type": "code",
      "execution_count": 103,
      "metadata": {
        "colab": {
          "base_uri": "https://localhost:8080/"
        },
        "id": "wl_AhtZzrhmJ",
        "outputId": "01b7ba76-2256-4017-a5cb-26a925241a8b"
      },
      "outputs": [
        {
          "data": {
            "text/plain": [
              "108195.77957462525"
            ]
          },
          "execution_count": 103,
          "metadata": {},
          "output_type": "execute_result"
        }
      ],
      "source": [
        "X_reduced_test = pca2.transform(X_scale_t)[:,:6]\n",
        "\n",
        "# Train regression model on training data \n",
        "regr = LinearRegression()\n",
        "regr.fit(X_reduced_train[:,:6], y_train)\n",
        "\n",
        "# Prediction with test data\n",
        "pred = regr.predict(X_reduced_test)\n",
        "mean_squared_error(y_test, pred)"
      ]
    },
    {
      "cell_type": "code",
      "execution_count": 95,
      "metadata": {
        "colab": {
          "base_uri": "https://localhost:8080/"
        },
        "id": "Kusb5bWlrhmJ",
        "outputId": "e94f57b3-a8f4-4187-faa9-40826fc3215a"
      },
      "outputs": [
        {
          "data": {
            "text/plain": [
              "LinearRegression()"
            ]
          },
          "execution_count": 95,
          "metadata": {},
          "output_type": "execute_result"
        }
      ],
      "source": [
        "# Fit regression model on the whole data \n",
        "regr = LinearRegression()\n",
        "regr.fit(X_reduced[:,:6], y)"
      ]
    },
    {
      "cell_type": "markdown",
      "metadata": {
        "id": "89R1QVTorhmJ"
      },
      "source": [
        "### Partial Least Squares"
      ]
    },
    {
      "attachments": {},
      "cell_type": "markdown",
      "metadata": {
        "id": "vggxsLRxrhmJ"
      },
      "source": [
        "Scikit-learn `PLSRegression` gives same results as the pls package in R when using 'method='oscorespls'.  \n",
        "See documentation: \n",
        "[http://scikit-learn.org/dev/modules/generated/sklearn.cross_decomposition.PLSRegression.html#sklearn.cross_decomposition.PLSRegression](http://scikit-learn.org/dev/modules/generated/sklearn.cross_decomposition.PLSRegression.html#sklearn.cross_decomposition.PLSRegression)."
      ]
    },
    {
      "cell_type": "code",
      "execution_count": null,
      "metadata": {
        "colab": {
          "base_uri": "https://localhost:8080/",
          "height": 313
        },
        "id": "wlRMnTU2rhmJ",
        "outputId": "ab73a5e4-3417-4fdb-f993-529ab903231f"
      },
      "outputs": [
        {
          "data": {
            "image/png": "[encoded data removed]",
            "text/plain": [
              "<Figure size 432x288 with 1 Axes>"
            ]
          },
          "metadata": {},
          "output_type": "display_data"
        }
      ],
      "source": [
        "n = len(X_train)\n",
        "\n",
        "# 10-fold CV, with shuffle\n",
        "kf_10 = KFold(n_splits=10, shuffle=True, random_state=2)\n",
        "\n",
        "mse = []\n",
        "\n",
        "score = -1*cross_val_score(regr, np.ones((n,1)), y_train, cv=kf_10, scoring='neg_mean_squared_error').mean()    \n",
        "mse.append(score)\n",
        "\n",
        "for i in np.arange(1, 20):\n",
        "    pls = PLSRegression(n_components=i)\n",
        "    score = -1*cross_val_score(pls, X_scale, y_train, cv=kf_10, scoring='neg_mean_squared_error').mean()\n",
        "    mse.append(score)\n",
        "\n",
        "plt.plot(np.arange(0, 20), np.array(mse), '-v')\n",
        "plt.xlabel('Number of principal components in regression')\n",
        "plt.ylabel('MSE')\n",
        "plt.title('Salary')\n",
        "plt.xlim(xmin=-1);"
      ]
    },
    {
      "cell_type": "code",
      "execution_count": null,
      "metadata": {
        "colab": {
          "base_uri": "https://localhost:8080/"
        },
        "id": "jWdoptUnrhmJ",
        "outputId": "2911a606-6efc-4f2d-a7ff-d948abebecdd"
      },
      "outputs": [
        {
          "data": {
            "text/plain": [
              "1"
            ]
          },
          "execution_count": 78,
          "metadata": {},
          "output_type": "execute_result"
        }
      ],
      "source": [
        "np.array(mse).argmin()"
      ]
    },
    {
      "cell_type": "markdown",
      "metadata": {
        "id": "pH2S6xtfA7W3"
      },
      "source": [
        "The lowest cross-validation error occurs when only $M=1$ partial least squares directions are used. We now evaluate the corresponding test set MSE."
      ]
    },
    {
      "cell_type": "code",
      "execution_count": null,
      "metadata": {
        "colab": {
          "base_uri": "https://localhost:8080/"
        },
        "id": "lNkVpnzlrhmJ",
        "outputId": "ba6d3dcd-889d-4a8c-d2ed-11774bb32a83"
      },
      "outputs": [
        {
          "data": {
            "text/plain": [
              "101462.13107757183"
            ]
          },
          "execution_count": 79,
          "metadata": {},
          "output_type": "execute_result"
        }
      ],
      "source": [
        "pls = PLSRegression(n_components=1)\n",
        "pls.fit(X_scale, y_train)\n",
        "\n",
        "mean_squared_error(y_test, pls.predict(X_scale_t))"
      ]
    }
  ],
  "metadata": {
    "colab": {
      "collapsed_sections": [],
      "provenance": [],
      "toc_visible": true
    },
    "kernelspec": {
      "display_name": "Python 3",
      "language": "python",
      "name": "python3"
    },
    "language_info": {
      "codemirror_mode": {
        "name": "ipython",
        "version": 3
      },
      "file_extension": ".py",
      "mimetype": "text/x-python",
      "name": "python",
      "nbconvert_exporter": "python",
      "pygments_lexer": "ipython3",
      "version": "3.8.8"
    }
  },
  "nbformat": 4,
  "nbformat_minor": 0
}
